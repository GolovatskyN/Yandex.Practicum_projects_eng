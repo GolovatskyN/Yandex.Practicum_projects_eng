{
 "cells": [
  {
   "cell_type": "markdown",
   "metadata": {},
   "source": [
    "# Приоритезация гипотез, анализ A/B теста для интернет-магазина.\n",
    "\n",
    "В проекте мы:\n",
    "- приоритезируем гипотезы фреймоврками `ICE` и `RICE` \n",
    "\n",
    "\n",
    "- проанализируем результаты A/B теста\n",
    "    - исследуем кумулятивные метрики\n",
    "    - проанализируем выбросы\n",
    "    - расчитаем статистическую значимость различий\n",
    "    \n",
    "    \n",
    "- примем решение по результатам теста"
   ]
  },
  {
   "cell_type": "markdown",
   "metadata": {
    "toc": true
   },
   "source": [
    "<h1>Содержание<span class=\"tocSkip\"></span></h1>\n",
    "<div class=\"toc\"><ul class=\"toc-item\"><li><span><a href=\"#Приоритизация-гипотез\" data-toc-modified-id=\"Приоритизация-гипотез-1\"><span class=\"toc-item-num\">1&nbsp;&nbsp;</span>Приоритизация гипотез</a></span><ul class=\"toc-item\"><li><span><a href=\"#ICE\" data-toc-modified-id=\"ICE-1.1\"><span class=\"toc-item-num\">1.1&nbsp;&nbsp;</span>ICE</a></span></li><li><span><a href=\"#RICE\" data-toc-modified-id=\"RICE-1.2\"><span class=\"toc-item-num\">1.2&nbsp;&nbsp;</span>RICE</a></span></li></ul></li><li><span><a href=\"#Вывод\" data-toc-modified-id=\"Вывод-2\"><span class=\"toc-item-num\">2&nbsp;&nbsp;</span>Вывод</a></span></li><li><span><a href=\"#Анализ-A/B-теста\" data-toc-modified-id=\"Анализ-A/B-теста-3\"><span class=\"toc-item-num\">3&nbsp;&nbsp;</span>Анализ A/B-теста</a></span><ul class=\"toc-item\"><li><span><a href=\"#Изучение-общей-информации\" data-toc-modified-id=\"Изучение-общей-информации-3.1\"><span class=\"toc-item-num\">3.1&nbsp;&nbsp;</span>Изучение общей информации</a></span></li><li><span><a href=\"#Вывод\" data-toc-modified-id=\"Вывод-3.2\"><span class=\"toc-item-num\">3.2&nbsp;&nbsp;</span>Вывод</a></span></li><li><span><a href=\"#Изучение-кумулятивных-метрик\" data-toc-modified-id=\"Изучение-кумулятивных-метрик-3.3\"><span class=\"toc-item-num\">3.3&nbsp;&nbsp;</span>Изучение кумулятивных метрик</a></span><ul class=\"toc-item\"><li><span><a href=\"#Подготовка-кумулятивных-данных\" data-toc-modified-id=\"Подготовка-кумулятивных-данных-3.3.1\"><span class=\"toc-item-num\">3.3.1&nbsp;&nbsp;</span>Подготовка кумулятивных данных</a></span></li><li><span><a href=\"#Кумулятивная-выручка\" data-toc-modified-id=\"Кумулятивная-выручка-3.3.2\"><span class=\"toc-item-num\">3.3.2&nbsp;&nbsp;</span>Кумулятивная выручка</a></span></li><li><span><a href=\"#Вывод\" data-toc-modified-id=\"Вывод-3.3.3\"><span class=\"toc-item-num\">3.3.3&nbsp;&nbsp;</span>Вывод</a></span></li><li><span><a href=\"#Кумулятивный-средний-чек\" data-toc-modified-id=\"Кумулятивный-средний-чек-3.3.4\"><span class=\"toc-item-num\">3.3.4&nbsp;&nbsp;</span>Кумулятивный средний чек</a></span></li><li><span><a href=\"#Вывод\" data-toc-modified-id=\"Вывод-3.3.5\"><span class=\"toc-item-num\">3.3.5&nbsp;&nbsp;</span>Вывод</a></span></li><li><span><a href=\"#Относительное-изменение-кумулятивного-среднего-чека\" data-toc-modified-id=\"Относительное-изменение-кумулятивного-среднего-чека-3.3.6\"><span class=\"toc-item-num\">3.3.6&nbsp;&nbsp;</span>Относительное изменение кумулятивного среднего чека</a></span></li><li><span><a href=\"#Вывод\" data-toc-modified-id=\"Вывод-3.3.7\"><span class=\"toc-item-num\">3.3.7&nbsp;&nbsp;</span>Вывод</a></span></li><li><span><a href=\"#Кумулятивная-конверсия\" data-toc-modified-id=\"Кумулятивная-конверсия-3.3.8\"><span class=\"toc-item-num\">3.3.8&nbsp;&nbsp;</span>Кумулятивная конверсия</a></span></li><li><span><a href=\"#Вывод\" data-toc-modified-id=\"Вывод-3.3.9\"><span class=\"toc-item-num\">3.3.9&nbsp;&nbsp;</span>Вывод</a></span></li><li><span><a href=\"#Относительное-изменение-кумулятивной-конверсии\" data-toc-modified-id=\"Относительное-изменение-кумулятивной-конверсии-3.3.10\"><span class=\"toc-item-num\">3.3.10&nbsp;&nbsp;</span>Относительное изменение кумулятивной конверсии</a></span></li><li><span><a href=\"#Вывод\" data-toc-modified-id=\"Вывод-3.3.11\"><span class=\"toc-item-num\">3.3.11&nbsp;&nbsp;</span>Вывод</a></span></li></ul></li><li><span><a href=\"#Анализ-выбросов\" data-toc-modified-id=\"Анализ-выбросов-3.4\"><span class=\"toc-item-num\">3.4&nbsp;&nbsp;</span>Анализ выбросов</a></span><ul class=\"toc-item\"><li><span><a href=\"#Количество-заказов-по-пользователям\" data-toc-modified-id=\"Количество-заказов-по-пользователям-3.4.1\"><span class=\"toc-item-num\">3.4.1&nbsp;&nbsp;</span>Количество заказов по пользователям</a></span></li><li><span><a href=\"#Вывод\" data-toc-modified-id=\"Вывод-3.4.2\"><span class=\"toc-item-num\">3.4.2&nbsp;&nbsp;</span>Вывод</a></span></li><li><span><a href=\"#Стоимость-заказов\" data-toc-modified-id=\"Стоимость-заказов-3.4.3\"><span class=\"toc-item-num\">3.4.3&nbsp;&nbsp;</span>Стоимость заказов</a></span></li><li><span><a href=\"#Вывод\" data-toc-modified-id=\"Вывод-3.4.4\"><span class=\"toc-item-num\">3.4.4&nbsp;&nbsp;</span>Вывод</a></span></li></ul></li><li><span><a href=\"#Расчет-статистической-значимости-различий\" data-toc-modified-id=\"Расчет-статистической-значимости-различий-3.5\"><span class=\"toc-item-num\">3.5&nbsp;&nbsp;</span>Расчет статистической значимости различий</a></span><ul class=\"toc-item\"><li><span><a href=\"#Конверсия.-Сырые-данные\" data-toc-modified-id=\"Конверсия.-Сырые-данные-3.5.1\"><span class=\"toc-item-num\">3.5.1&nbsp;&nbsp;</span>Конверсия. Сырые данные</a></span></li><li><span><a href=\"#Вывод\" data-toc-modified-id=\"Вывод-3.5.2\"><span class=\"toc-item-num\">3.5.2&nbsp;&nbsp;</span>Вывод</a></span></li><li><span><a href=\"#Средний-чек.-Сырые-данные\" data-toc-modified-id=\"Средний-чек.-Сырые-данные-3.5.3\"><span class=\"toc-item-num\">3.5.3&nbsp;&nbsp;</span>Средний чек. Сырые данные</a></span></li><li><span><a href=\"#Вывод\" data-toc-modified-id=\"Вывод-3.5.4\"><span class=\"toc-item-num\">3.5.4&nbsp;&nbsp;</span>Вывод</a></span></li><li><span><a href=\"#Конверсия.-Очищенные-данные\" data-toc-modified-id=\"Конверсия.-Очищенные-данные-3.5.5\"><span class=\"toc-item-num\">3.5.5&nbsp;&nbsp;</span>Конверсия. Очищенные данные</a></span></li><li><span><a href=\"#Вывод\" data-toc-modified-id=\"Вывод-3.5.6\"><span class=\"toc-item-num\">3.5.6&nbsp;&nbsp;</span>Вывод</a></span></li><li><span><a href=\"#Средний-чек.-Очищенные-данные\" data-toc-modified-id=\"Средний-чек.-Очищенные-данные-3.5.7\"><span class=\"toc-item-num\">3.5.7&nbsp;&nbsp;</span>Средний чек. Очищенные данные</a></span></li><li><span><a href=\"#Вывод\" data-toc-modified-id=\"Вывод-3.5.8\"><span class=\"toc-item-num\">3.5.8&nbsp;&nbsp;</span>Вывод</a></span></li></ul></li><li><span><a href=\"#Решение-по-результатам-теста\" data-toc-modified-id=\"Решение-по-результатам-теста-3.6\"><span class=\"toc-item-num\">3.6&nbsp;&nbsp;</span>Решение по результатам теста</a></span></li></ul></li><li><span><a href=\"#Общий-вывод\" data-toc-modified-id=\"Общий-вывод-4\"><span class=\"toc-item-num\">4&nbsp;&nbsp;</span>Общий вывод</a></span></li></ul></div>"
   ]
  },
  {
   "cell_type": "markdown",
   "metadata": {},
   "source": [
    "Импортируем библиотеки"
   ]
  },
  {
   "cell_type": "code",
   "execution_count": 1,
   "metadata": {},
   "outputs": [
    {
     "data": {
      "image/png": "[encoded data removed]",
      "text/plain": [
       "<Figure size 720x72 with 1 Axes>"
      ]
     },
     "metadata": {},
     "output_type": "display_data"
    }
   ],
   "source": [
    "import pandas as pd\n",
    "import numpy as np\n",
    "import scipy.stats as st\n",
    "import matplotlib.pyplot as plt\n",
    "import seaborn as sns\n",
    "from IPython.display import display\n",
    "import warnings\n",
    "\n",
    "warnings.filterwarnings(\"ignore\")\n",
    "pd.set_option('max_columns', None)\n",
    "sns.set_palette('bright')\n",
    "sns.set_style('darkgrid')\n",
    "pal = sns.color_palette('bright')\n",
    "sns.palplot(pal)"
   ]
  },
  {
   "cell_type": "markdown",
   "metadata": {},
   "source": [
    "## Приоритизация гипотез"
   ]
  },
  {
   "cell_type": "markdown",
   "metadata": {},
   "source": [
    "Прочитаем файл, изучим общую информацию"
   ]
  },
  {
   "cell_type": "code",
   "execution_count": 2,
   "metadata": {},
   "outputs": [
    {
     "name": "stdout",
     "output_type": "stream",
     "text": [
      "<class 'pandas.core.frame.DataFrame'>\n",
      "RangeIndex: 9 entries, 0 to 8\n",
      "Data columns (total 5 columns):\n",
      "Hypothesis    9 non-null object\n",
      "Reach         9 non-null int64\n",
      "Impact        9 non-null int64\n",
      "Confidence    9 non-null int64\n",
      "Efforts       9 non-null int64\n",
      "dtypes: int64(4), object(1)\n",
      "memory usage: 488.0+ bytes\n"
     ]
    },
    {
     "data": {
      "text/html": [
       "<div>\n",
       "<style scoped>\n",
       "    .dataframe tbody tr th:only-of-type {\n",
       "        vertical-align: middle;\n",
       "    }\n",
       "\n",
       "    .dataframe tbody tr th {\n",
       "        vertical-align: top;\n",
       "    }\n",
       "\n",
       "    .dataframe thead th {\n",
       "        text-align: right;\n",
       "    }\n",
       "</style>\n",
       "<table border=\"1\" class=\"dataframe\">\n",
       "  <thead>\n",
       "    <tr style=\"text-align: right;\">\n",
       "      <th></th>\n",
       "      <th>Hypothesis</th>\n",
       "      <th>Reach</th>\n",
       "      <th>Impact</th>\n",
       "      <th>Confidence</th>\n",
       "      <th>Efforts</th>\n",
       "    </tr>\n",
       "  </thead>\n",
       "  <tbody>\n",
       "    <tr>\n",
       "      <td>0</td>\n",
       "      <td>Добавить два новых канала привлечения трафика, что позволит привлекать на 30% больше пользователей</td>\n",
       "      <td>3</td>\n",
       "      <td>10</td>\n",
       "      <td>8</td>\n",
       "      <td>6</td>\n",
       "    </tr>\n",
       "    <tr>\n",
       "      <td>1</td>\n",
       "      <td>Запустить собственную службу доставки, что сократит срок доставки заказов</td>\n",
       "      <td>2</td>\n",
       "      <td>5</td>\n",
       "      <td>4</td>\n",
       "      <td>10</td>\n",
       "    </tr>\n",
       "    <tr>\n",
       "      <td>2</td>\n",
       "      <td>Добавить блоки рекомендаций товаров на сайт интернет магазина, чтобы повысить конверсию и средний чек заказа</td>\n",
       "      <td>8</td>\n",
       "      <td>3</td>\n",
       "      <td>7</td>\n",
       "      <td>3</td>\n",
       "    </tr>\n",
       "    <tr>\n",
       "      <td>3</td>\n",
       "      <td>Изменить структура категорий, что увеличит конверсию, т.к. пользователи быстрее найдут нужный товар</td>\n",
       "      <td>8</td>\n",
       "      <td>3</td>\n",
       "      <td>3</td>\n",
       "      <td>8</td>\n",
       "    </tr>\n",
       "    <tr>\n",
       "      <td>4</td>\n",
       "      <td>Изменить цвет фона главной страницы, чтобы увеличить вовлеченность пользователей</td>\n",
       "      <td>3</td>\n",
       "      <td>1</td>\n",
       "      <td>1</td>\n",
       "      <td>1</td>\n",
       "    </tr>\n",
       "    <tr>\n",
       "      <td>5</td>\n",
       "      <td>Добавить страницу отзывов клиентов о магазине, что позволит увеличить количество заказов</td>\n",
       "      <td>3</td>\n",
       "      <td>2</td>\n",
       "      <td>2</td>\n",
       "      <td>3</td>\n",
       "    </tr>\n",
       "    <tr>\n",
       "      <td>6</td>\n",
       "      <td>Показать на главной странице баннеры с актуальными акциями и распродажами, чтобы увеличить конверсию</td>\n",
       "      <td>5</td>\n",
       "      <td>3</td>\n",
       "      <td>8</td>\n",
       "      <td>3</td>\n",
       "    </tr>\n",
       "    <tr>\n",
       "      <td>7</td>\n",
       "      <td>Добавить форму подписки на все основные страницы, чтобы собрать базу клиентов для email-рассылок</td>\n",
       "      <td>10</td>\n",
       "      <td>7</td>\n",
       "      <td>8</td>\n",
       "      <td>5</td>\n",
       "    </tr>\n",
       "    <tr>\n",
       "      <td>8</td>\n",
       "      <td>Запустить акцию, дающую скидку на товар в день рождения</td>\n",
       "      <td>1</td>\n",
       "      <td>9</td>\n",
       "      <td>9</td>\n",
       "      <td>5</td>\n",
       "    </tr>\n",
       "  </tbody>\n",
       "</table>\n",
       "</div>"
      ],
      "text/plain": [
       "                                                                                                     Hypothesis  \\\n",
       "0  Добавить два новых канала привлечения трафика, что позволит привлекать на 30% больше пользователей             \n",
       "1  Запустить собственную службу доставки, что сократит срок доставки заказов                                      \n",
       "2  Добавить блоки рекомендаций товаров на сайт интернет магазина, чтобы повысить конверсию и средний чек заказа   \n",
       "3  Изменить структура категорий, что увеличит конверсию, т.к. пользователи быстрее найдут нужный товар            \n",
       "4  Изменить цвет фона главной страницы, чтобы увеличить вовлеченность пользователей                               \n",
       "5  Добавить страницу отзывов клиентов о магазине, что позволит увеличить количество заказов                       \n",
       "6  Показать на главной странице баннеры с актуальными акциями и распродажами, чтобы увеличить конверсию           \n",
       "7  Добавить форму подписки на все основные страницы, чтобы собрать базу клиентов для email-рассылок               \n",
       "8  Запустить акцию, дающую скидку на товар в день рождения                                                        \n",
       "\n",
       "   Reach  Impact  Confidence  Efforts  \n",
       "0  3      10      8           6        \n",
       "1  2      5       4           10       \n",
       "2  8      3       7           3        \n",
       "3  8      3       3           8        \n",
       "4  3      1       1           1        \n",
       "5  3      2       2           3        \n",
       "6  5      3       8           3        \n",
       "7  10     7       8           5        \n",
       "8  1      9       9           5        "
      ]
     },
     "execution_count": 2,
     "metadata": {},
     "output_type": "execute_result"
    }
   ],
   "source": [
    "pd.set_option('max_colwidth', -1)\n",
    "data = pd.read_csv('/datasets/hypothesis.csv')\n",
    "data.info()\n",
    "data"
   ]
  },
  {
   "cell_type": "markdown",
   "metadata": {},
   "source": [
    "Данные в порядке, таблица содержит информацию о гипотезах - содержание, парметры `ICE` и `RICE`"
   ]
  },
  {
   "cell_type": "markdown",
   "metadata": {},
   "source": [
    "### ICE"
   ]
  },
  {
   "cell_type": "code",
   "execution_count": 3,
   "metadata": {},
   "outputs": [
    {
     "data": {
      "text/html": [
       "<div>\n",
       "<style scoped>\n",
       "    .dataframe tbody tr th:only-of-type {\n",
       "        vertical-align: middle;\n",
       "    }\n",
       "\n",
       "    .dataframe tbody tr th {\n",
       "        vertical-align: top;\n",
       "    }\n",
       "\n",
       "    .dataframe thead th {\n",
       "        text-align: right;\n",
       "    }\n",
       "</style>\n",
       "<table border=\"1\" class=\"dataframe\">\n",
       "  <thead>\n",
       "    <tr style=\"text-align: right;\">\n",
       "      <th></th>\n",
       "      <th>Hypothesis</th>\n",
       "      <th>ICE</th>\n",
       "    </tr>\n",
       "  </thead>\n",
       "  <tbody>\n",
       "    <tr>\n",
       "      <td>8</td>\n",
       "      <td>Запустить акцию, дающую скидку на товар в день рождения</td>\n",
       "      <td>16.20</td>\n",
       "    </tr>\n",
       "    <tr>\n",
       "      <td>0</td>\n",
       "      <td>Добавить два новых канала привлечения трафика, что позволит привлекать на 30% больше пользователей</td>\n",
       "      <td>13.33</td>\n",
       "    </tr>\n",
       "    <tr>\n",
       "      <td>7</td>\n",
       "      <td>Добавить форму подписки на все основные страницы, чтобы собрать базу клиентов для email-рассылок</td>\n",
       "      <td>11.20</td>\n",
       "    </tr>\n",
       "    <tr>\n",
       "      <td>6</td>\n",
       "      <td>Показать на главной странице баннеры с актуальными акциями и распродажами, чтобы увеличить конверсию</td>\n",
       "      <td>8.00</td>\n",
       "    </tr>\n",
       "    <tr>\n",
       "      <td>2</td>\n",
       "      <td>Добавить блоки рекомендаций товаров на сайт интернет магазина, чтобы повысить конверсию и средний чек заказа</td>\n",
       "      <td>7.00</td>\n",
       "    </tr>\n",
       "    <tr>\n",
       "      <td>1</td>\n",
       "      <td>Запустить собственную службу доставки, что сократит срок доставки заказов</td>\n",
       "      <td>2.00</td>\n",
       "    </tr>\n",
       "    <tr>\n",
       "      <td>5</td>\n",
       "      <td>Добавить страницу отзывов клиентов о магазине, что позволит увеличить количество заказов</td>\n",
       "      <td>1.33</td>\n",
       "    </tr>\n",
       "    <tr>\n",
       "      <td>3</td>\n",
       "      <td>Изменить структура категорий, что увеличит конверсию, т.к. пользователи быстрее найдут нужный товар</td>\n",
       "      <td>1.12</td>\n",
       "    </tr>\n",
       "    <tr>\n",
       "      <td>4</td>\n",
       "      <td>Изменить цвет фона главной страницы, чтобы увеличить вовлеченность пользователей</td>\n",
       "      <td>1.00</td>\n",
       "    </tr>\n",
       "  </tbody>\n",
       "</table>\n",
       "</div>"
      ],
      "text/plain": [
       "                                                                                                     Hypothesis  \\\n",
       "8  Запустить акцию, дающую скидку на товар в день рождения                                                        \n",
       "0  Добавить два новых канала привлечения трафика, что позволит привлекать на 30% больше пользователей             \n",
       "7  Добавить форму подписки на все основные страницы, чтобы собрать базу клиентов для email-рассылок               \n",
       "6  Показать на главной странице баннеры с актуальными акциями и распродажами, чтобы увеличить конверсию           \n",
       "2  Добавить блоки рекомендаций товаров на сайт интернет магазина, чтобы повысить конверсию и средний чек заказа   \n",
       "1  Запустить собственную службу доставки, что сократит срок доставки заказов                                      \n",
       "5  Добавить страницу отзывов клиентов о магазине, что позволит увеличить количество заказов                       \n",
       "3  Изменить структура категорий, что увеличит конверсию, т.к. пользователи быстрее найдут нужный товар            \n",
       "4  Изменить цвет фона главной страницы, чтобы увеличить вовлеченность пользователей                               \n",
       "\n",
       "     ICE  \n",
       "8  16.20  \n",
       "0  13.33  \n",
       "7  11.20  \n",
       "6  8.00   \n",
       "2  7.00   \n",
       "1  2.00   \n",
       "5  1.33   \n",
       "3  1.12   \n",
       "4  1.00   "
      ]
     },
     "execution_count": 3,
     "metadata": {},
     "output_type": "execute_result"
    }
   ],
   "source": [
    "data['ICE'] = (data['Impact'] * data['Confidence'] / data['Efforts']).round(2)\n",
    "data[['Hypothesis', 'ICE']].sort_values(by='ICE', ascending=False)"
   ]
  },
  {
   "cell_type": "markdown",
   "metadata": {},
   "source": [
    "### RICE"
   ]
  },
  {
   "cell_type": "code",
   "execution_count": 4,
   "metadata": {},
   "outputs": [
    {
     "data": {
      "text/html": [
       "<div>\n",
       "<style scoped>\n",
       "    .dataframe tbody tr th:only-of-type {\n",
       "        vertical-align: middle;\n",
       "    }\n",
       "\n",
       "    .dataframe tbody tr th {\n",
       "        vertical-align: top;\n",
       "    }\n",
       "\n",
       "    .dataframe thead th {\n",
       "        text-align: right;\n",
       "    }\n",
       "</style>\n",
       "<table border=\"1\" class=\"dataframe\">\n",
       "  <thead>\n",
       "    <tr style=\"text-align: right;\">\n",
       "      <th></th>\n",
       "      <th>Hypothesis</th>\n",
       "      <th>RICE</th>\n",
       "    </tr>\n",
       "  </thead>\n",
       "  <tbody>\n",
       "    <tr>\n",
       "      <td>7</td>\n",
       "      <td>Добавить форму подписки на все основные страницы, чтобы собрать базу клиентов для email-рассылок</td>\n",
       "      <td>112.0</td>\n",
       "    </tr>\n",
       "    <tr>\n",
       "      <td>2</td>\n",
       "      <td>Добавить блоки рекомендаций товаров на сайт интернет магазина, чтобы повысить конверсию и средний чек заказа</td>\n",
       "      <td>56.0</td>\n",
       "    </tr>\n",
       "    <tr>\n",
       "      <td>0</td>\n",
       "      <td>Добавить два новых канала привлечения трафика, что позволит привлекать на 30% больше пользователей</td>\n",
       "      <td>40.0</td>\n",
       "    </tr>\n",
       "    <tr>\n",
       "      <td>6</td>\n",
       "      <td>Показать на главной странице баннеры с актуальными акциями и распродажами, чтобы увеличить конверсию</td>\n",
       "      <td>40.0</td>\n",
       "    </tr>\n",
       "    <tr>\n",
       "      <td>8</td>\n",
       "      <td>Запустить акцию, дающую скидку на товар в день рождения</td>\n",
       "      <td>16.2</td>\n",
       "    </tr>\n",
       "    <tr>\n",
       "      <td>3</td>\n",
       "      <td>Изменить структура категорий, что увеличит конверсию, т.к. пользователи быстрее найдут нужный товар</td>\n",
       "      <td>9.0</td>\n",
       "    </tr>\n",
       "    <tr>\n",
       "      <td>1</td>\n",
       "      <td>Запустить собственную службу доставки, что сократит срок доставки заказов</td>\n",
       "      <td>4.0</td>\n",
       "    </tr>\n",
       "    <tr>\n",
       "      <td>5</td>\n",
       "      <td>Добавить страницу отзывов клиентов о магазине, что позволит увеличить количество заказов</td>\n",
       "      <td>4.0</td>\n",
       "    </tr>\n",
       "    <tr>\n",
       "      <td>4</td>\n",
       "      <td>Изменить цвет фона главной страницы, чтобы увеличить вовлеченность пользователей</td>\n",
       "      <td>3.0</td>\n",
       "    </tr>\n",
       "  </tbody>\n",
       "</table>\n",
       "</div>"
      ],
      "text/plain": [
       "                                                                                                     Hypothesis  \\\n",
       "7  Добавить форму подписки на все основные страницы, чтобы собрать базу клиентов для email-рассылок               \n",
       "2  Добавить блоки рекомендаций товаров на сайт интернет магазина, чтобы повысить конверсию и средний чек заказа   \n",
       "0  Добавить два новых канала привлечения трафика, что позволит привлекать на 30% больше пользователей             \n",
       "6  Показать на главной странице баннеры с актуальными акциями и распродажами, чтобы увеличить конверсию           \n",
       "8  Запустить акцию, дающую скидку на товар в день рождения                                                        \n",
       "3  Изменить структура категорий, что увеличит конверсию, т.к. пользователи быстрее найдут нужный товар            \n",
       "1  Запустить собственную службу доставки, что сократит срок доставки заказов                                      \n",
       "5  Добавить страницу отзывов клиентов о магазине, что позволит увеличить количество заказов                       \n",
       "4  Изменить цвет фона главной страницы, чтобы увеличить вовлеченность пользователей                               \n",
       "\n",
       "    RICE  \n",
       "7  112.0  \n",
       "2  56.0   \n",
       "0  40.0   \n",
       "6  40.0   \n",
       "8  16.2   \n",
       "3  9.0    \n",
       "1  4.0    \n",
       "5  4.0    \n",
       "4  3.0    "
      ]
     },
     "execution_count": 4,
     "metadata": {},
     "output_type": "execute_result"
    }
   ],
   "source": [
    "data['RICE'] = data['Reach'] * data['Impact'] * data['Confidence'] / data['Efforts']\n",
    "data[['Hypothesis', 'RICE']].sort_values(by='RICE', ascending=False)"
   ]
  },
  {
   "cell_type": "markdown",
   "metadata": {},
   "source": [
    "## Вывод\n",
    "\n",
    "`RICE` учитывает больше факторов, его приоритеты более точные, поэтому фреймворки выдали разные приоритеты. В `ICE` это гипотезы 8, 0, 7, в `RICE` 7, 2, 0. Гипотеза 8, занимающая первое место в `ICE`, имеет низкий парметр `Reach` = 1 (наименьший охват пользователей), поэтому `RICE` оценил его на 5 место. Обратная ситуация с гипотезой 2 - в `ICE` она имеет пятый приоритет, а в `RICE` второй. У второй гипотезы большой охват пользователей (`Reach` = 8), поэтому ее приоритет в `RICE` выше. Однако, стоит отметить, что топ-5 гипотез по фреймворкам получился одинаковый.\n",
    "\n",
    "Приоритет получает гипотеза 7 - она имеет самый высокий `RICE` (набольший охват среди конкурентов в `ICE`), ее нужно тестировать в первую очередь."
   ]
  },
  {
   "cell_type": "markdown",
   "metadata": {},
   "source": [
    "## Анализ A/B-теста"
   ]
  },
  {
   "cell_type": "markdown",
   "metadata": {},
   "source": [
    "Напишем функции для построения графиков:\n",
    "- `plot1` - Кумулятивные метрики по группам\n",
    "- `plot2` - Относительные изменения кумулятивных метрик\n",
    "- `scatter` - Для построения точечных графиков и подсчета персентилей"
   ]
  },
  {
   "cell_type": "code",
   "execution_count": 5,
   "metadata": {},
   "outputs": [],
   "source": [
    "def plot1(y,title,yname):\n",
    "    plt.figure(figsize=(16,6))\n",
    "    sns.lineplot(data=cum_data,x='date',y=y,hue='group')\n",
    "    plt.title(title)\n",
    "    plt.xlabel('Время')\n",
    "    plt.ylabel(yname)\n",
    "    plt.ylim(0)\n",
    "    plt.show()\n",
    "    \n",
    "def plot2(y1,y2,title):\n",
    "    plt.figure(figsize=(16,6))\n",
    "    plt.plot(cum_merge['date'], (cum_merge[y1])/(cum_merge[y2])-1, color=pal[4])\n",
    "    plt.axhline(y=0, color='black', linestyle='--') \n",
    "    plt.title(title)\n",
    "    plt.xlabel('Время')\n",
    "    plt.ylabel('Изменение')\n",
    "    plt.show()\n",
    "    \n",
    "def scatter(data, column, title, xname, yname):\n",
    "    plt.figure(figsize=(10,6))\n",
    "    x_values = pd.Series(range(0,len(data[column])))\n",
    "    plt.scatter(x_values, data[column], color=pal[2], alpha=.5)\n",
    "    plt.title(title)\n",
    "    plt.xlabel(xname)\n",
    "    plt.ylabel(yname)\n",
    "    \n",
    "    print('Персентили 95 99:', np.percentile(data[column], [95, 99])) "
   ]
  },
  {
   "cell_type": "markdown",
   "metadata": {},
   "source": [
    "### Изучение общей информации"
   ]
  },
  {
   "cell_type": "code",
   "execution_count": 6,
   "metadata": {},
   "outputs": [
    {
     "name": "stdout",
     "output_type": "stream",
     "text": [
      "<class 'pandas.core.frame.DataFrame'>\n",
      "RangeIndex: 1197 entries, 0 to 1196\n",
      "Data columns (total 5 columns):\n",
      "transactionId    1197 non-null int64\n",
      "visitorId        1197 non-null int64\n",
      "date             1197 non-null datetime64[ns]\n",
      "revenue          1197 non-null int64\n",
      "group            1197 non-null object\n",
      "dtypes: datetime64[ns](1), int64(3), object(1)\n",
      "memory usage: 46.9+ KB\n"
     ]
    },
    {
     "data": {
      "text/html": [
       "<div>\n",
       "<style scoped>\n",
       "    .dataframe tbody tr th:only-of-type {\n",
       "        vertical-align: middle;\n",
       "    }\n",
       "\n",
       "    .dataframe tbody tr th {\n",
       "        vertical-align: top;\n",
       "    }\n",
       "\n",
       "    .dataframe thead th {\n",
       "        text-align: right;\n",
       "    }\n",
       "</style>\n",
       "<table border=\"1\" class=\"dataframe\">\n",
       "  <thead>\n",
       "    <tr style=\"text-align: right;\">\n",
       "      <th></th>\n",
       "      <th>transactionId</th>\n",
       "      <th>visitorId</th>\n",
       "      <th>date</th>\n",
       "      <th>revenue</th>\n",
       "      <th>group</th>\n",
       "    </tr>\n",
       "  </thead>\n",
       "  <tbody>\n",
       "    <tr>\n",
       "      <td>0</td>\n",
       "      <td>3667963787</td>\n",
       "      <td>3312258926</td>\n",
       "      <td>2019-08-15</td>\n",
       "      <td>1650</td>\n",
       "      <td>B</td>\n",
       "    </tr>\n",
       "    <tr>\n",
       "      <td>1</td>\n",
       "      <td>2804400009</td>\n",
       "      <td>3642806036</td>\n",
       "      <td>2019-08-15</td>\n",
       "      <td>730</td>\n",
       "      <td>B</td>\n",
       "    </tr>\n",
       "    <tr>\n",
       "      <td>2</td>\n",
       "      <td>2961555356</td>\n",
       "      <td>4069496402</td>\n",
       "      <td>2019-08-15</td>\n",
       "      <td>400</td>\n",
       "      <td>A</td>\n",
       "    </tr>\n",
       "    <tr>\n",
       "      <td>3</td>\n",
       "      <td>3797467345</td>\n",
       "      <td>1196621759</td>\n",
       "      <td>2019-08-15</td>\n",
       "      <td>9759</td>\n",
       "      <td>B</td>\n",
       "    </tr>\n",
       "    <tr>\n",
       "      <td>4</td>\n",
       "      <td>2282983706</td>\n",
       "      <td>2322279887</td>\n",
       "      <td>2019-08-15</td>\n",
       "      <td>2308</td>\n",
       "      <td>B</td>\n",
       "    </tr>\n",
       "  </tbody>\n",
       "</table>\n",
       "</div>"
      ],
      "text/plain": [
       "   transactionId   visitorId       date  revenue group\n",
       "0  3667963787     3312258926 2019-08-15  1650     B   \n",
       "1  2804400009     3642806036 2019-08-15  730      B   \n",
       "2  2961555356     4069496402 2019-08-15  400      A   \n",
       "3  3797467345     1196621759 2019-08-15  9759     B   \n",
       "4  2282983706     2322279887 2019-08-15  2308     B   "
      ]
     },
     "execution_count": 6,
     "metadata": {},
     "output_type": "execute_result"
    }
   ],
   "source": [
    "orders = pd.read_csv('/datasets/orders.csv', parse_dates=['date'])\n",
    "orders.info()\n",
    "orders.head()"
   ]
  },
  {
   "cell_type": "markdown",
   "metadata": {},
   "source": [
    "Переименуем столбцы"
   ]
  },
  {
   "cell_type": "code",
   "execution_count": 7,
   "metadata": {},
   "outputs": [
    {
     "name": "stdout",
     "output_type": "stream",
     "text": [
      "Index(['transaction_id', 'visitor_id', 'date', 'revenue', 'group'], dtype='object')\n"
     ]
    }
   ],
   "source": [
    "orders = orders.rename(columns={'transactionId':'transaction_id', 'visitorId': 'visitor_id'})\n",
    "print(orders.columns)"
   ]
  },
  {
   "cell_type": "markdown",
   "metadata": {},
   "source": [
    "Посмотрим временной период"
   ]
  },
  {
   "cell_type": "code",
   "execution_count": 8,
   "metadata": {},
   "outputs": [
    {
     "name": "stdout",
     "output_type": "stream",
     "text": [
      "2019-08-01 00:00:00 2019-08-31 00:00:00\n"
     ]
    }
   ],
   "source": [
    "print(orders['date'].min(), orders['date'].max())"
   ]
  },
  {
   "cell_type": "markdown",
   "metadata": {},
   "source": [
    "Проверим дубликаты"
   ]
  },
  {
   "cell_type": "code",
   "execution_count": 9,
   "metadata": {},
   "outputs": [
    {
     "data": {
      "text/plain": [
       "0"
      ]
     },
     "execution_count": 9,
     "metadata": {},
     "output_type": "execute_result"
    }
   ],
   "source": [
    "orders.duplicated().sum()"
   ]
  },
  {
   "cell_type": "markdown",
   "metadata": {},
   "source": [
    "Проверим наличие ошибок"
   ]
  },
  {
   "cell_type": "code",
   "execution_count": 10,
   "metadata": {},
   "outputs": [
    {
     "data": {
      "text/plain": [
       "array(['B', 'A'], dtype=object)"
      ]
     },
     "execution_count": 10,
     "metadata": {},
     "output_type": "execute_result"
    }
   ],
   "source": [
    "orders.group.unique()"
   ]
  },
  {
   "cell_type": "markdown",
   "metadata": {},
   "source": [
    "Прочитаем вторую таблицу"
   ]
  },
  {
   "cell_type": "code",
   "execution_count": 11,
   "metadata": {},
   "outputs": [
    {
     "name": "stdout",
     "output_type": "stream",
     "text": [
      "<class 'pandas.core.frame.DataFrame'>\n",
      "RangeIndex: 62 entries, 0 to 61\n",
      "Data columns (total 3 columns):\n",
      "date        62 non-null datetime64[ns]\n",
      "group       62 non-null object\n",
      "visitors    62 non-null int64\n",
      "dtypes: datetime64[ns](1), int64(1), object(1)\n",
      "memory usage: 1.6+ KB\n"
     ]
    },
    {
     "data": {
      "text/html": [
       "<div>\n",
       "<style scoped>\n",
       "    .dataframe tbody tr th:only-of-type {\n",
       "        vertical-align: middle;\n",
       "    }\n",
       "\n",
       "    .dataframe tbody tr th {\n",
       "        vertical-align: top;\n",
       "    }\n",
       "\n",
       "    .dataframe thead th {\n",
       "        text-align: right;\n",
       "    }\n",
       "</style>\n",
       "<table border=\"1\" class=\"dataframe\">\n",
       "  <thead>\n",
       "    <tr style=\"text-align: right;\">\n",
       "      <th></th>\n",
       "      <th>date</th>\n",
       "      <th>group</th>\n",
       "      <th>visitors</th>\n",
       "    </tr>\n",
       "  </thead>\n",
       "  <tbody>\n",
       "    <tr>\n",
       "      <td>0</td>\n",
       "      <td>2019-08-01</td>\n",
       "      <td>A</td>\n",
       "      <td>719</td>\n",
       "    </tr>\n",
       "    <tr>\n",
       "      <td>1</td>\n",
       "      <td>2019-08-02</td>\n",
       "      <td>A</td>\n",
       "      <td>619</td>\n",
       "    </tr>\n",
       "    <tr>\n",
       "      <td>2</td>\n",
       "      <td>2019-08-03</td>\n",
       "      <td>A</td>\n",
       "      <td>507</td>\n",
       "    </tr>\n",
       "    <tr>\n",
       "      <td>3</td>\n",
       "      <td>2019-08-04</td>\n",
       "      <td>A</td>\n",
       "      <td>717</td>\n",
       "    </tr>\n",
       "    <tr>\n",
       "      <td>4</td>\n",
       "      <td>2019-08-05</td>\n",
       "      <td>A</td>\n",
       "      <td>756</td>\n",
       "    </tr>\n",
       "  </tbody>\n",
       "</table>\n",
       "</div>"
      ],
      "text/plain": [
       "        date group  visitors\n",
       "0 2019-08-01  A     719     \n",
       "1 2019-08-02  A     619     \n",
       "2 2019-08-03  A     507     \n",
       "3 2019-08-04  A     717     \n",
       "4 2019-08-05  A     756     "
      ]
     },
     "execution_count": 11,
     "metadata": {},
     "output_type": "execute_result"
    }
   ],
   "source": [
    "visitors = pd.read_csv('/datasets/visitors.csv', parse_dates=['date'])\n",
    "visitors.info()\n",
    "visitors.head()"
   ]
  },
  {
   "cell_type": "markdown",
   "metadata": {},
   "source": [
    "Посмотрим временной период"
   ]
  },
  {
   "cell_type": "code",
   "execution_count": 12,
   "metadata": {},
   "outputs": [
    {
     "name": "stdout",
     "output_type": "stream",
     "text": [
      "2019-08-01 00:00:00 2019-08-31 00:00:00\n"
     ]
    }
   ],
   "source": [
    "print(visitors['date'].min(), visitors['date'].max())"
   ]
  },
  {
   "cell_type": "markdown",
   "metadata": {},
   "source": [
    "Проверим дубликаты"
   ]
  },
  {
   "cell_type": "code",
   "execution_count": 13,
   "metadata": {},
   "outputs": [
    {
     "data": {
      "text/plain": [
       "0"
      ]
     },
     "execution_count": 13,
     "metadata": {},
     "output_type": "execute_result"
    }
   ],
   "source": [
    "visitors.duplicated().sum()"
   ]
  },
  {
   "cell_type": "markdown",
   "metadata": {},
   "source": [
    "Проверим на ошибки"
   ]
  },
  {
   "cell_type": "code",
   "execution_count": 14,
   "metadata": {},
   "outputs": [
    {
     "data": {
      "text/plain": [
       "array(['A', 'B'], dtype=object)"
      ]
     },
     "execution_count": 14,
     "metadata": {},
     "output_type": "execute_result"
    }
   ],
   "source": [
    "visitors.group.unique()"
   ]
  },
  {
   "cell_type": "markdown",
   "metadata": {},
   "source": [
    "### Вывод\n",
    "\n",
    "Данные в полном порядке, ошибок нет, типы корректны, пропусков не содержат, дубликатов нет. Период таблиц совпадает, тест проводится в течении августа 2019."
   ]
  },
  {
   "cell_type": "markdown",
   "metadata": {},
   "source": [
    "### Изучение кумулятивных метрик"
   ]
  },
  {
   "cell_type": "markdown",
   "metadata": {},
   "source": [
    "#### Подготовка кумулятивных данных"
   ]
  },
  {
   "cell_type": "markdown",
   "metadata": {},
   "source": [
    "Соберем `cum_data`, в которую положим кумулятивные данные за период\n",
    "\n",
    "Создадим массив уникальных пар значений дат и групп теста"
   ]
  },
  {
   "cell_type": "code",
   "execution_count": 15,
   "metadata": {},
   "outputs": [],
   "source": [
    "dates_groups = orders[['date','group']].drop_duplicates()"
   ]
  },
  {
   "cell_type": "markdown",
   "metadata": {},
   "source": [
    "Получим агрегированные кумулятивные по дням данные о заказах "
   ]
  },
  {
   "cell_type": "code",
   "execution_count": 16,
   "metadata": {},
   "outputs": [],
   "source": [
    "orders_aggregated = (\n",
    "    dates_groups\n",
    "    .apply(lambda x: orders[np.logical_and(orders['date'] <= x['date'], orders['group'] == x['group'])]\n",
    "           .agg({'date' : 'max', \n",
    "                 'group' : 'max', \n",
    "                 'transaction_id' : pd.Series.nunique, \n",
    "                 'visitor_id' : pd.Series.nunique, \n",
    "                 'revenue' : 'sum'}), \n",
    "           axis=1)\n",
    "    .sort_values(by=['date','group'])\n",
    "                    )"
   ]
  },
  {
   "cell_type": "markdown",
   "metadata": {},
   "source": [
    "Получим агрегированные кумулятивные по дням данные о посетителях интернет-магазина "
   ]
  },
  {
   "cell_type": "code",
   "execution_count": 17,
   "metadata": {},
   "outputs": [],
   "source": [
    "visitors_aggregated = (\n",
    "    dates_groups\n",
    "    .apply(lambda x: visitors[np.logical_and(visitors['date'] <= x['date'], visitors['group'] == x['group'])]\n",
    "           .agg({'date' : 'max', 'group' : 'max', 'visitors' : 'sum'}), axis=1)\n",
    "    .sort_values(by=['date','group'])\n",
    ")"
   ]
  },
  {
   "cell_type": "markdown",
   "metadata": {},
   "source": [
    "Объединим кумулятивные данные, переименуем столбцы. Добавим в таблицу кумулятивные средний чек и конверсию"
   ]
  },
  {
   "cell_type": "code",
   "execution_count": 18,
   "metadata": {},
   "outputs": [
    {
     "data": {
      "text/html": [
       "<div>\n",
       "<style scoped>\n",
       "    .dataframe tbody tr th:only-of-type {\n",
       "        vertical-align: middle;\n",
       "    }\n",
       "\n",
       "    .dataframe tbody tr th {\n",
       "        vertical-align: top;\n",
       "    }\n",
       "\n",
       "    .dataframe thead th {\n",
       "        text-align: right;\n",
       "    }\n",
       "</style>\n",
       "<table border=\"1\" class=\"dataframe\">\n",
       "  <thead>\n",
       "    <tr style=\"text-align: right;\">\n",
       "      <th></th>\n",
       "      <th>date</th>\n",
       "      <th>group</th>\n",
       "      <th>orders</th>\n",
       "      <th>buyers</th>\n",
       "      <th>revenue</th>\n",
       "      <th>visitors</th>\n",
       "      <th>aver_check</th>\n",
       "      <th>conversion</th>\n",
       "    </tr>\n",
       "  </thead>\n",
       "  <tbody>\n",
       "    <tr>\n",
       "      <td>0</td>\n",
       "      <td>2019-08-01</td>\n",
       "      <td>A</td>\n",
       "      <td>24</td>\n",
       "      <td>20</td>\n",
       "      <td>148579</td>\n",
       "      <td>719</td>\n",
       "      <td>6190.791667</td>\n",
       "      <td>0.033380</td>\n",
       "    </tr>\n",
       "    <tr>\n",
       "      <td>1</td>\n",
       "      <td>2019-08-01</td>\n",
       "      <td>B</td>\n",
       "      <td>21</td>\n",
       "      <td>20</td>\n",
       "      <td>101217</td>\n",
       "      <td>713</td>\n",
       "      <td>4819.857143</td>\n",
       "      <td>0.029453</td>\n",
       "    </tr>\n",
       "    <tr>\n",
       "      <td>2</td>\n",
       "      <td>2019-08-02</td>\n",
       "      <td>A</td>\n",
       "      <td>44</td>\n",
       "      <td>38</td>\n",
       "      <td>242401</td>\n",
       "      <td>1338</td>\n",
       "      <td>5509.113636</td>\n",
       "      <td>0.032885</td>\n",
       "    </tr>\n",
       "    <tr>\n",
       "      <td>3</td>\n",
       "      <td>2019-08-02</td>\n",
       "      <td>B</td>\n",
       "      <td>45</td>\n",
       "      <td>43</td>\n",
       "      <td>266748</td>\n",
       "      <td>1294</td>\n",
       "      <td>5927.733333</td>\n",
       "      <td>0.034776</td>\n",
       "    </tr>\n",
       "    <tr>\n",
       "      <td>4</td>\n",
       "      <td>2019-08-03</td>\n",
       "      <td>A</td>\n",
       "      <td>68</td>\n",
       "      <td>62</td>\n",
       "      <td>354874</td>\n",
       "      <td>1845</td>\n",
       "      <td>5218.735294</td>\n",
       "      <td>0.036856</td>\n",
       "    </tr>\n",
       "  </tbody>\n",
       "</table>\n",
       "</div>"
      ],
      "text/plain": [
       "        date group  orders  buyers  revenue  visitors   aver_check  conversion\n",
       "0 2019-08-01  A     24      20      148579   719       6190.791667  0.033380  \n",
       "1 2019-08-01  B     21      20      101217   713       4819.857143  0.029453  \n",
       "2 2019-08-02  A     44      38      242401   1338      5509.113636  0.032885  \n",
       "3 2019-08-02  B     45      43      266748   1294      5927.733333  0.034776  \n",
       "4 2019-08-03  A     68      62      354874   1845      5218.735294  0.036856  "
      ]
     },
     "execution_count": 18,
     "metadata": {},
     "output_type": "execute_result"
    }
   ],
   "source": [
    "cum_data = orders_aggregated.merge(visitors_aggregated, left_on=['date', 'group'], right_on=['date', 'group'])\n",
    "cum_data.columns = ['date', 'group', 'orders', 'buyers', 'revenue', 'visitors']\n",
    "\n",
    "cum_data['aver_check'] = cum_data['revenue'] / cum_data['orders']\n",
    "cum_data['conversion'] = cum_data['orders'] / cum_data['visitors']\n",
    "\n",
    "cum_data.head(5)"
   ]
  },
  {
   "cell_type": "markdown",
   "metadata": {},
   "source": [
    "Создадим таблицу, в которой разделим метрики по группам. Она пригодится при расчете относительного изменения метрик"
   ]
  },
  {
   "cell_type": "code",
   "execution_count": 19,
   "metadata": {},
   "outputs": [
    {
     "data": {
      "text/html": [
       "<div>\n",
       "<style scoped>\n",
       "    .dataframe tbody tr th:only-of-type {\n",
       "        vertical-align: middle;\n",
       "    }\n",
       "\n",
       "    .dataframe tbody tr th {\n",
       "        vertical-align: top;\n",
       "    }\n",
       "\n",
       "    .dataframe thead th {\n",
       "        text-align: right;\n",
       "    }\n",
       "</style>\n",
       "<table border=\"1\" class=\"dataframe\">\n",
       "  <thead>\n",
       "    <tr style=\"text-align: right;\">\n",
       "      <th></th>\n",
       "      <th>date</th>\n",
       "      <th>aver_checkA</th>\n",
       "      <th>conversionA</th>\n",
       "      <th>aver_checkB</th>\n",
       "      <th>conversionB</th>\n",
       "    </tr>\n",
       "  </thead>\n",
       "  <tbody>\n",
       "    <tr>\n",
       "      <td>0</td>\n",
       "      <td>2019-08-01</td>\n",
       "      <td>6190.791667</td>\n",
       "      <td>0.033380</td>\n",
       "      <td>4819.857143</td>\n",
       "      <td>0.029453</td>\n",
       "    </tr>\n",
       "    <tr>\n",
       "      <td>1</td>\n",
       "      <td>2019-08-02</td>\n",
       "      <td>5509.113636</td>\n",
       "      <td>0.032885</td>\n",
       "      <td>5927.733333</td>\n",
       "      <td>0.034776</td>\n",
       "    </tr>\n",
       "    <tr>\n",
       "      <td>2</td>\n",
       "      <td>2019-08-03</td>\n",
       "      <td>5218.735294</td>\n",
       "      <td>0.036856</td>\n",
       "      <td>6245.836066</td>\n",
       "      <td>0.033833</td>\n",
       "    </tr>\n",
       "    <tr>\n",
       "      <td>3</td>\n",
       "      <td>2019-08-04</td>\n",
       "      <td>5067.845238</td>\n",
       "      <td>0.032787</td>\n",
       "      <td>6276.500000</td>\n",
       "      <td>0.030315</td>\n",
       "    </tr>\n",
       "    <tr>\n",
       "      <td>4</td>\n",
       "      <td>2019-08-05</td>\n",
       "      <td>5045.110092</td>\n",
       "      <td>0.032851</td>\n",
       "      <td>5762.326733</td>\n",
       "      <td>0.030793</td>\n",
       "    </tr>\n",
       "  </tbody>\n",
       "</table>\n",
       "</div>"
      ],
      "text/plain": [
       "        date  aver_checkA  conversionA  aver_checkB  conversionB\n",
       "0 2019-08-01  6190.791667  0.033380     4819.857143  0.029453   \n",
       "1 2019-08-02  5509.113636  0.032885     5927.733333  0.034776   \n",
       "2 2019-08-03  5218.735294  0.036856     6245.836066  0.033833   \n",
       "3 2019-08-04  5067.845238  0.032787     6276.500000  0.030315   \n",
       "4 2019-08-05  5045.110092  0.032851     5762.326733  0.030793   "
      ]
     },
     "execution_count": 19,
     "metadata": {},
     "output_type": "execute_result"
    }
   ],
   "source": [
    "cum_A = cum_data[cum_data['group']=='A'][['date', 'aver_check', 'conversion']]\n",
    "cum_B = cum_data[cum_data['group']=='B'][['date', 'aver_check', 'conversion']]\n",
    "\n",
    "cum_merge = cum_A.merge(cum_B, left_on='date', right_on='date', how='left', suffixes=['A', 'B'])\n",
    "cum_merge.head()"
   ]
  },
  {
   "cell_type": "markdown",
   "metadata": {},
   "source": [
    "#### Кумулятивная выручка"
   ]
  },
  {
   "cell_type": "code",
   "execution_count": 20,
   "metadata": {},
   "outputs": [
    {
     "data": {
      "image/png": "[encoded data removed]",
      "text/plain": [
       "<Figure size 1152x432 with 1 Axes>"
      ]
     },
     "metadata": {},
     "output_type": "display_data"
    }
   ],
   "source": [
    "plot1('revenue', 'Кумулятивная выручка', 'Выручка')"
   ]
  },
  {
   "cell_type": "markdown",
   "metadata": {},
   "source": [
    "#### Вывод\n",
    "\n",
    "Выручка равномерно накапливается в течении всего теста, однако в группе **B** наблюдается резкий скачок в середине месяца. Это может быть либо наплыв заказов, либо, что более вероятно, появление очень догорих заказов в выборке (выбросы). Учтем этот факт и проведем проверку на выбросы в следующих шагах. Если визуально отбросить выбросы, графики растут примерно одинаково."
   ]
  },
  {
   "cell_type": "markdown",
   "metadata": {},
   "source": [
    "#### Кумулятивный средний чек"
   ]
  },
  {
   "cell_type": "code",
   "execution_count": 21,
   "metadata": {},
   "outputs": [
    {
     "data": {
      "image/png": "[encoded data removed]",
      "text/plain": [
       "<Figure size 1152x432 with 1 Axes>"
      ]
     },
     "metadata": {},
     "output_type": "display_data"
    }
   ],
   "source": [
    "plot1('aver_check', 'Кумулятивный средний чек', 'Средний чек')"
   ]
  },
  {
   "cell_type": "markdown",
   "metadata": {},
   "source": [
    "#### Вывод\n",
    "\n",
    "К концу периода, средний чек стабилизировался - установился для группы **А** и снижается у группы **В**. На графике, средний чек группы **В** значительно выше из за выброса в середине месяца, ему нужно время, чтобы снизиться до своего реального значения и стабилизироваться."
   ]
  },
  {
   "cell_type": "markdown",
   "metadata": {},
   "source": [
    "#### Относительное изменение кумулятивного среднего чека"
   ]
  },
  {
   "cell_type": "code",
   "execution_count": 22,
   "metadata": {},
   "outputs": [
    {
     "data": {
      "image/png": "[encoded data removed]",
      "text/plain": [
       "<Figure size 1152x432 with 1 Axes>"
      ]
     },
     "metadata": {},
     "output_type": "display_data"
    }
   ],
   "source": [
    "plot2('aver_checkB', 'aver_checkA', 'Относительное изменение среднего чека')"
   ]
  },
  {
   "cell_type": "markdown",
   "metadata": {},
   "source": [
    "#### Вывод\n",
    "\n",
    "По общей картине можно было бы сказать, что группа **B** лучше группы **A** по среднему чеку. Однако график слишком нестабильный, для того чтобы делать выводы - весь период он резко «скачет». Это говорит нам о присутствии выбросов, найдем их позже. "
   ]
  },
  {
   "cell_type": "markdown",
   "metadata": {},
   "source": [
    "#### Кумулятивная конверсия"
   ]
  },
  {
   "cell_type": "code",
   "execution_count": 23,
   "metadata": {},
   "outputs": [
    {
     "data": {
      "image/png": "[encoded data removed]",
      "text/plain": [
       "<Figure size 1152x432 with 1 Axes>"
      ]
     },
     "metadata": {},
     "output_type": "display_data"
    }
   ],
   "source": [
    "plot1('conversion', 'Кумулятивная конверсия', 'Конверсия')"
   ]
  },
  {
   "cell_type": "markdown",
   "metadata": {},
   "source": [
    "#### Вывод\n",
    "\n",
    "На графике видно, что группа **В** стабильно лучше группы **А** по конверсии. В начале теста группы колебались, но затем конверсии зафиксировались: группа **В** вырвалась вперёд, а группа **А** просела."
   ]
  },
  {
   "cell_type": "markdown",
   "metadata": {},
   "source": [
    "#### Относительное изменение кумулятивной конверсии"
   ]
  },
  {
   "cell_type": "code",
   "execution_count": 24,
   "metadata": {},
   "outputs": [
    {
     "data": {
      "image/png": "[encoded data removed]",
      "text/plain": [
       "<Figure size 1152x432 with 1 Axes>"
      ]
     },
     "metadata": {},
     "output_type": "display_data"
    }
   ],
   "source": [
    "plot2('conversionB', 'conversionA', 'Относительное изменение конверсии')"
   ]
  },
  {
   "cell_type": "markdown",
   "metadata": {},
   "source": [
    "#### Вывод\n",
    "\n",
    "В начале теста группа **B** проигрывала группе A, затем вырвалась вперёд и стабилизировалась сверху. На графиках конверсии отчетливо видно, что группа **В** лучше группы **А**, чего не скажешь о графиках выручки и среднего чека. "
   ]
  },
  {
   "cell_type": "markdown",
   "metadata": {},
   "source": [
    "### Анализ выбросов"
   ]
  },
  {
   "cell_type": "markdown",
   "metadata": {},
   "source": [
    "#### Количество заказов по пользователям"
   ]
  },
  {
   "cell_type": "code",
   "execution_count": 25,
   "metadata": {},
   "outputs": [
    {
     "name": "stdout",
     "output_type": "stream",
     "text": [
      "Персентили 95 99: [2. 4.]\n"
     ]
    },
    {
     "data": {
      "image/png": "[encoded data removed]",
      "text/plain": [
       "<Figure size 720x432 with 1 Axes>"
      ]
     },
     "metadata": {},
     "output_type": "display_data"
    }
   ],
   "source": [
    "orders_per_user = orders.groupby('visitor_id', as_index=False).agg({'transaction_id': 'nunique'})\n",
    "scatter(orders_per_user,'transaction_id','Точечный график количества заказов по пользователям','Пользователи', 'Кол-во заказов')"
   ]
  },
  {
   "cell_type": "markdown",
   "metadata": {},
   "source": [
    "#### Вывод\n",
    "\n",
    "На графике видны выбросы. Некоторые клиенты сделали более 10 заказов за прошедший месяц, такие аномалии искажают картину конверсии. Будем отсеивать выбросы по 95 персентилю, который равен 2. Все клиенты, сделавшие более двух заказов, не будут участвовать в расчете статистической значимости по очищенным данным."
   ]
  },
  {
   "cell_type": "markdown",
   "metadata": {},
   "source": [
    "#### Стоимость заказов"
   ]
  },
  {
   "cell_type": "code",
   "execution_count": 26,
   "metadata": {},
   "outputs": [
    {
     "name": "stdout",
     "output_type": "stream",
     "text": [
      "Персентили 95 99: [28000.  58233.2]\n"
     ]
    },
    {
     "data": {
      "image/png": "[encoded data removed]",
      "text/plain": [
       "<Figure size 720x432 with 1 Axes>"
      ]
     },
     "metadata": {},
     "output_type": "display_data"
    }
   ],
   "source": [
    "scatter(orders,'revenue','Точечный график стоимости заказов', 'Заказы', 'Сумма заказа')"
   ]
  },
  {
   "cell_type": "markdown",
   "metadata": {},
   "source": [
    "Посмотрим на график поближе"
   ]
  },
  {
   "cell_type": "code",
   "execution_count": 27,
   "metadata": {},
   "outputs": [
    {
     "name": "stdout",
     "output_type": "stream",
     "text": [
      "Персентили 95 99: [28000.  58233.2]\n"
     ]
    },
    {
     "data": {
      "image/png": "[encoded data removed]",
      "text/plain": [
       "<Figure size 720x432 with 1 Axes>"
      ]
     },
     "metadata": {},
     "output_type": "display_data"
    }
   ],
   "source": [
    "scatter(orders,'revenue','Точечный график стоимости заказов', 'Заказы', 'Сумма заказа')\n",
    "plt.ylim([0, 100000])\n",
    "plt.show()"
   ]
  },
  {
   "cell_type": "markdown",
   "metadata": {},
   "source": [
    "#### Вывод\n",
    "\n",
    "График очень инстересный. Мы видим, что кто-то из клиентов за период теста сделал заказ более чем на 1 200 000. Это и есть тот пользователь из группы **В**, который искажал графики среднего чека и выручки. Кроме него, на графике видно и другие выбросы до 200 000. Как и с количеством заказов, будем отсеивать аномалии по 95 персентилю. Заказы на сумму более 28 000 не будут участвовать в анализе по отфильтрованным данным."
   ]
  },
  {
   "cell_type": "markdown",
   "metadata": {},
   "source": [
    "### Расчет статистической значимости различий"
   ]
  },
  {
   "cell_type": "markdown",
   "metadata": {},
   "source": [
    "Напишем функции: \n",
    "- `stat_test1`: Проверка данных на нормальность критерием **Шапиро-Уилка**.\n",
    "- `stat_test2`: Расчет статистической значимости непараметрическим тестом **Уилкоксона-Манна-Уитни** и относительного изменения метрики."
   ]
  },
  {
   "cell_type": "code",
   "execution_count": 28,
   "metadata": {},
   "outputs": [],
   "source": [
    "def stat_test1(sample):\n",
    "    \n",
    "    alpha = 0.05\n",
    "    results = st.shapiro(sample)\n",
    "    print('pvalue: ', results[1])\n",
    "\n",
    "    if results[1] < alpha:\n",
    "        print('Отвергаем нулевую гипотезу: распределение не нормально')\n",
    "    else:\n",
    "        print('Не получилось отвергнуть нулевую гипотезу, всё нормально') \n",
    "\n",
    "def stat_test2(sample1, sample2):\n",
    "    \n",
    "    alpha = 0.05\n",
    "    results = st.mannwhitneyu(sample1, sample2, alternative = 'two-sided')\n",
    "    print('pvalue:', results[1])\n",
    "    \n",
    "    if results[1] < alpha:\n",
    "        print('Отвергаем нулевую гипотезу: присутствуют статистические значимые различия между группами')\n",
    "    \n",
    "    else:\n",
    "        print('Не получилось отвергнуть нулевую гипотезу: статистически значимых различий между группами нет')\n",
    "        \n",
    "    print(\"Относительное изменение метрики: {0:.3f}\".format(sample2.mean() / sample1.mean() - 1))"
   ]
  },
  {
   "cell_type": "markdown",
   "metadata": {},
   "source": [
    "#### Конверсия. Сырые данные"
   ]
  },
  {
   "cell_type": "markdown",
   "metadata": {},
   "source": [
    "Соберем `sampleA` и `sampleB`, в которые для каждого пользователя положим количество сделанных им заказов. Для правильного расчета стат. значимости, в выборки добавим нулевые значения для тех, кто ничего не заказывал."
   ]
  },
  {
   "cell_type": "code",
   "execution_count": 29,
   "metadata": {},
   "outputs": [],
   "source": [
    "orders_A = orders.query('group == \"A\"').groupby('visitor_id', as_index=False).agg({'transaction_id': 'nunique'})\n",
    "orders_A.columns = ['user_id', 'orders']\n",
    "\n",
    "null_A = (pd.Series(0, index=np.arange(visitors.query('group == \"A\"')['visitors'].sum() - len(orders_A['orders'])),\n",
    "                    name='orders')\n",
    "         )\n",
    "\n",
    "sampleA = pd.concat([orders_A['orders'], null_A])"
   ]
  },
  {
   "cell_type": "code",
   "execution_count": 30,
   "metadata": {},
   "outputs": [],
   "source": [
    "orders_B = orders.query('group == \"B\"').groupby('visitor_id', as_index=False).agg({'transaction_id': 'nunique'})\n",
    "orders_B.columns = ['user_id', 'orders']\n",
    "\n",
    "null_B = (pd.Series(0, index=np.arange(visitors.query('group == \"B\"')['visitors'].sum() - len(orders_B['orders'])), \n",
    "                    name='orders')\n",
    "         )\n",
    "\n",
    "sampleB = pd.concat([orders_B['orders'], null_B])"
   ]
  },
  {
   "cell_type": "markdown",
   "metadata": {},
   "source": [
    "Проверим выборки на нормальность. Сформулируем гипотезы:\n",
    "- **H0:** Конверсия по сырым данным имеет нормальное распределение\n",
    "- **H1:** Распределение конверсии по сырым данным не нормально"
   ]
  },
  {
   "cell_type": "code",
   "execution_count": 31,
   "metadata": {},
   "outputs": [
    {
     "name": "stdout",
     "output_type": "stream",
     "text": [
      "sampleA:\n",
      "pvalue:  0.0\n",
      "Отвергаем нулевую гипотезу: распределение не нормально\n",
      "\n",
      "sampleB:\n",
      "pvalue:  0.0\n",
      "Отвергаем нулевую гипотезу: распределение не нормально\n"
     ]
    }
   ],
   "source": [
    "print('sampleA:')\n",
    "stat_test1(sampleA)\n",
    "print()\n",
    "print('sampleB:')\n",
    "stat_test1(sampleB)"
   ]
  },
  {
   "cell_type": "markdown",
   "metadata": {},
   "source": [
    "Распределение не нормально, расчитаем статистическую значимость различий тестом **Уилкоксона-Манна-Уитни**. Сформулируем гипотезы:\n",
    "- **H0:** По сырым данным, конверсии в группах не имеют статистически значимых различий\n",
    "- **H1:** По сырым данным, между конверсиями групп присутствуют статистически значимые различия"
   ]
  },
  {
   "cell_type": "code",
   "execution_count": 32,
   "metadata": {},
   "outputs": [
    {
     "name": "stdout",
     "output_type": "stream",
     "text": [
      "pvalue: 0.016792355056752608\n",
      "Отвергаем нулевую гипотезу: присутствуют статистические значимые различия между группами\n",
      "Относительное изменение метрики: 0.138\n"
     ]
    }
   ],
   "source": [
    "stat_test2(sampleA, sampleB)"
   ]
  },
  {
   "cell_type": "markdown",
   "metadata": {},
   "source": [
    "#### Вывод\n",
    "\n",
    "В результате теста мы отвергли **Н0** - по «сырым» данным в конверсиях групп **А** и **В** присутствуют статистически значимые различия. Конверсия группы **В** почти на 14% лучше, что очень много в реальных условиях бизнеса. Вероятность ошибки первого рода менее 2% (`pvalue=1.6%`). Это очень хорошие показатели."
   ]
  },
  {
   "cell_type": "markdown",
   "metadata": {},
   "source": [
    "#### Средний чек. Сырые данные"
   ]
  },
  {
   "cell_type": "markdown",
   "metadata": {},
   "source": [
    "Получим выборки для расчетов."
   ]
  },
  {
   "cell_type": "code",
   "execution_count": 33,
   "metadata": {},
   "outputs": [],
   "source": [
    "rev_sampleA = orders.query('group == \"A\"')['revenue']\n",
    "rev_sampleB = orders.query('group == \"B\"')['revenue']"
   ]
  },
  {
   "cell_type": "markdown",
   "metadata": {},
   "source": [
    "Проверим выборки на нормальность:\n",
    "- **H0:** Средний чек по сырым данным имеет нормальное распределение\n",
    "- **H1:** Распределение среднего чека по сырым данным не нормально"
   ]
  },
  {
   "cell_type": "code",
   "execution_count": 34,
   "metadata": {},
   "outputs": [
    {
     "name": "stdout",
     "output_type": "stream",
     "text": [
      "rev_sampleA:\n",
      "pvalue:  1.739703399801917e-34\n",
      "Отвергаем нулевую гипотезу: распределение не нормально\n",
      "\n",
      "rev_sampleB:\n",
      "pvalue:  0.0\n",
      "Отвергаем нулевую гипотезу: распределение не нормально\n"
     ]
    }
   ],
   "source": [
    "print('rev_sampleA:')\n",
    "stat_test1(rev_sampleA)\n",
    "print()\n",
    "print('rev_sampleB:')\n",
    "stat_test1(rev_sampleB)"
   ]
  },
  {
   "cell_type": "markdown",
   "metadata": {},
   "source": [
    "Гипотезы о нормальном распределение отвергли. Проведем тест **Уилкоксона-Манна-Уитни**. Сформулируем гипотезы:\n",
    "- **H0:** Средние чеки групп по сырым данным не имеют статистически значимых различий\n",
    "- **H1:** Присутствуют статистически значимые различия между средними чеками групп по сырым данным"
   ]
  },
  {
   "cell_type": "code",
   "execution_count": 35,
   "metadata": {},
   "outputs": [
    {
     "name": "stdout",
     "output_type": "stream",
     "text": [
      "pvalue: 0.7292909855432458\n",
      "Не получилось отвергнуть нулевую гипотезу: статистически значимых различий между группами нет\n",
      "Относительное изменение метрики: 0.259\n"
     ]
    }
   ],
   "source": [
    "stat_test2(rev_sampleA, rev_sampleB)"
   ]
  },
  {
   "cell_type": "markdown",
   "metadata": {},
   "source": [
    "#### Вывод\n",
    "\n",
    "Pvalue значительно больше 0.05. Значит, причин отвергать нулевую гипотезу и считать, что в среднем чеке есть различия, нет. Нововведение не влияет на стоимость покупок. Стоит отметить, что хоть мы и не отвергли **H0**, группа **В** имееет средний чек на 26% больше. На первый взгляд это кажется странным: как такой прирост может не быть значимым? Ответ прост: как мы ранее выяснили, в группе **В** присутствуют выбросы. Это было видно на графике среднего чека и на точечном графике. \n",
    "\n",
    "Проверим наше предположение, когда проведем тест на очищенных данных."
   ]
  },
  {
   "cell_type": "markdown",
   "metadata": {},
   "source": [
    "#### Конверсия. Очищенные данные"
   ]
  },
  {
   "cell_type": "markdown",
   "metadata": {},
   "source": [
    "Соберем таблицу `bad_users`, в которую положим ID \"плохих\" клиентов (для фильтрации). Плохими клиентами станут: \n",
    "- те, кто сделал более двух заказов за месяц\n",
    "- те, кто делал заказы стоимостью более 28 000"
   ]
  },
  {
   "cell_type": "code",
   "execution_count": 36,
   "metadata": {
    "scrolled": false
   },
   "outputs": [
    {
     "name": "stdout",
     "output_type": "stream",
     "text": [
      "Количество \"плохих\" клиентов: 83\n"
     ]
    }
   ],
   "source": [
    "bad_order_users = (orders\n",
    "                   .groupby('visitor_id', as_index=False)\n",
    "                   .agg({'transaction_id': 'nunique'})\n",
    "                   .query('transaction_id > 2')['visitor_id']\n",
    "                  )\n",
    "bad_check_users = orders.query('revenue > 28000')['visitor_id']\n",
    "bad_users = pd.concat([bad_order_users, bad_check_users]).drop_duplicates()\n",
    "print('Количество \"плохих\" клиентов:', len(bad_users))"
   ]
  },
  {
   "cell_type": "markdown",
   "metadata": {},
   "source": [
    "Соберем `filtered_sampleA` и `filtered_sampleB` по отфильтрованным данным."
   ]
  },
  {
   "cell_type": "code",
   "execution_count": 37,
   "metadata": {},
   "outputs": [],
   "source": [
    "filtered_orders_A = orders_A[np.logical_not(orders_A['user_id'].isin(bad_users))]\n",
    "filtered_sampleA = pd.concat([filtered_orders_A['orders'], null_A])"
   ]
  },
  {
   "cell_type": "code",
   "execution_count": 38,
   "metadata": {},
   "outputs": [],
   "source": [
    "filtered_orders_B = orders_B[np.logical_not(orders_B['user_id'].isin(bad_users))]\n",
    "filtered_sampleB = pd.concat([filtered_orders_B['orders'], null_A])"
   ]
  },
  {
   "cell_type": "markdown",
   "metadata": {},
   "source": [
    "Проверим выборки на нормальность.\n",
    "\n",
    "- **H0:** Конверсия по очищенным данным имеет нормальное распределение\n",
    "- **H1:** Распределение конверсии по очищенным данным не нормально"
   ]
  },
  {
   "cell_type": "code",
   "execution_count": 39,
   "metadata": {},
   "outputs": [
    {
     "name": "stdout",
     "output_type": "stream",
     "text": [
      "filtered_sampleA:\n",
      "pvalue:  0.0\n",
      "Отвергаем нулевую гипотезу: распределение не нормально\n",
      "\n",
      "filtered_sampleB:\n",
      "pvalue:  0.0\n",
      "Отвергаем нулевую гипотезу: распределение не нормально\n"
     ]
    }
   ],
   "source": [
    "print('filtered_sampleA:')\n",
    "stat_test1(filtered_sampleA)\n",
    "print()\n",
    "print('filtered_sampleB:')\n",
    "stat_test1(filtered_sampleB)"
   ]
  },
  {
   "cell_type": "markdown",
   "metadata": {},
   "source": [
    "Выборки не нормальны. Проведем тест **Уилкоксона-Манна-Уитни**. Сформулируем гипотезы: \n",
    "- **H0:** По очищенным данным, конверсии групп не имеют статистически значимых различий\n",
    "- **H1:** Присутствуют статистически значимые различия между конверсиями групп по очищенным данным"
   ]
  },
  {
   "cell_type": "code",
   "execution_count": 40,
   "metadata": {},
   "outputs": [
    {
     "name": "stdout",
     "output_type": "stream",
     "text": [
      "pvalue: 0.009627061922071568\n",
      "Отвергаем нулевую гипотезу: присутствуют статистические значимые различия между группами\n",
      "Относительное изменение метрики: 0.182\n"
     ]
    }
   ],
   "source": [
    "stat_test2(filtered_sampleA, filtered_sampleB)"
   ]
  },
  {
   "cell_type": "markdown",
   "metadata": {},
   "source": [
    "#### Вывод\n",
    "\n",
    "На основе теста по очищенным данным все так же отвергаем **H0**, однако получаем более точный результат. Pvalue стало меньше почти в 2 раза, вероятность ошибки первого рода теперь 0.9%. Очищенные данные дали нам более точное относительное изменение. Группа **В** лучше группы **А** на 18.2%. Наше нововведение эффективно поднимает конверсию."
   ]
  },
  {
   "cell_type": "markdown",
   "metadata": {},
   "source": [
    "#### Средний чек. Очищенные данные"
   ]
  },
  {
   "cell_type": "markdown",
   "metadata": {},
   "source": [
    "Соберем выборки по очищенным данным."
   ]
  },
  {
   "cell_type": "code",
   "execution_count": 41,
   "metadata": {},
   "outputs": [],
   "source": [
    "filtered_rev_sampleA = orders[(orders['group'] == \"A\")&(np.logical_not(orders['visitor_id'].isin(bad_users)))]['revenue']\n",
    "filtered_rev_sampleB = orders[(orders['group'] == \"B\")&(np.logical_not(orders['visitor_id'].isin(bad_users)))]['revenue']"
   ]
  },
  {
   "cell_type": "markdown",
   "metadata": {},
   "source": [
    "Проверим на нормальность\n",
    "\n",
    "- **H0:** Средний чек по очищенным данным имеет нормальное распределение\n",
    "- **H1:** Распределение среднего чека по очищенным данным не нормально"
   ]
  },
  {
   "cell_type": "code",
   "execution_count": 42,
   "metadata": {},
   "outputs": [
    {
     "name": "stdout",
     "output_type": "stream",
     "text": [
      "filtered_rev_sampleA:\n",
      "pvalue:  9.829744882191168e-24\n",
      "Отвергаем нулевую гипотезу: распределение не нормально\n",
      "\n",
      "filtered_rev_sampleB:\n",
      "pvalue:  3.233262361030969e-27\n",
      "Отвергаем нулевую гипотезу: распределение не нормально\n"
     ]
    }
   ],
   "source": [
    "print('filtered_rev_sampleA:')\n",
    "stat_test1(filtered_rev_sampleA)\n",
    "print()\n",
    "print('filtered_rev_sampleB:')\n",
    "stat_test1(filtered_rev_sampleB)"
   ]
  },
  {
   "cell_type": "markdown",
   "metadata": {},
   "source": [
    "Распределение не является нормальным. Расчитаем статистическую значимость различий тестом **Уилкоксона-Манна-Уитни**. Сформулируем гипотезы:\n",
    "- **H0:** Средние чеки групп, по очищенным данным, не имеют статистически значимых различий\n",
    "- **H1:** По очищенным данным, между средними чеками групп присутствуют статистически значимые различия"
   ]
  },
  {
   "cell_type": "code",
   "execution_count": 43,
   "metadata": {
    "scrolled": true
   },
   "outputs": [
    {
     "name": "stdout",
     "output_type": "stream",
     "text": [
      "pvalue: 0.7528652023825759\n",
      "Не получилось отвергнуть нулевую гипотезу: статистически значимых различий между группами нет\n",
      "Относительное изменение метрики: -0.022\n"
     ]
    }
   ],
   "source": [
    "stat_test2(filtered_rev_sampleA, filtered_rev_sampleB)"
   ]
  },
  {
   "cell_type": "markdown",
   "metadata": {},
   "source": [
    "#### Вывод\n",
    "\n",
    "Выбросы искажали картину относительного изменения, но не результаты теста (использовали непараметрический). Теперь мы видим реальную картину. Статистически значимых различий нет, а преимущество группы **В** в 26% теперь равно -2%. Наше нововведение никак не влияет на средний чек."
   ]
  },
  {
   "cell_type": "markdown",
   "metadata": {},
   "source": [
    "### Решение по результатам теста\n",
    "\n",
    "На основе полученных результатов принимаем решение остановить тест и зафиксировать статистически значимый прирост конверсии в группе **В**. Нововведение не оказало влияния на средний чек, однако повысило конверсию на 18.2% - это очень хороший результат для бизнеса. \n",
    "\n",
    "При проверке гипотез о различии в выборках использовали `alpha=0.05` - это значит, что результаты получены без ошибок с вероятностью 95%."
   ]
  },
  {
   "cell_type": "markdown",
   "metadata": {},
   "source": [
    "## Общий вывод"
   ]
  },
  {
   "cell_type": "markdown",
   "metadata": {},
   "source": [
    "1. **Приоритезация гипотез.**\n",
    "\n",
    "    - Рассчитали значения фреймворков **ICE** и **RICE**. Обнаружив отличия в приоритетах, объяснили их разным охватом пользователей. Выбрали **RICE** как основной критерий. Приоритет получила гипотеза №7: \"Добавить форму подписки на все основные страницы, чтобы собрать базу клиентов для email-рассылок\".\n",
    "    \n",
    "\n",
    "2. **Анализ А/В теста**\n",
    "\n",
    "    - **Изучение кумулятивных метрик:** подготовили кумулятивные данные для построения графиков. Изучили графики кумулятивной выручки и среднего чека. Выяснили, что в данных содержатся выбросы (графики \"скачут\"). По группам метрики практически не различаются. Изучили график кумулятивной конверсии - группа **В** стабилизировалась над группой **А**, также это видно на графике относительного изменения конверсии. На этом этапе заметили различия в конверсии и сделали предположение о том, что выручка и средний чек не различаются по группам.\n",
    "\n",
    "    - **Анализ выбросов:** так как на предыдущем шаге были обнаружены скачки на графиках, проанализировали выбросы для наших метрик. Для среднего чека искали выбросы в стоимости заказов, для конверсии - в количестве заказов на пользователя за период теста. За границу отсеивания выбрали 95 персентиль.\n",
    "    \n",
    "    - **Расчет статистической значимости различий:** проверили значимость различий в конверсии и среднем чеке. Предварительные тесты на сырых данных дали результат: \n",
    "        - Найдены статистически значимые различия в конверсиях. Наблюдается прирост в группе **В** на 13.8%\n",
    "        - Статистически значимых различий в средних чеках групп не обнаружено, однако обнаружен прирост в группе **В** на 26%. Сделали предположение на выбросы.\n",
    "        \n",
    "        Далее провели тесты на очищенных данных: \n",
    "        - Получили более точный результат по конверсии. Присутствует статистически значимый прирост в группе **В** на 18%.\n",
    "        - Тест о средних чеках дал все тот же результат - различий нет. Однако отсеев выбросы, мы увидели реальную картину относительного изменения: вместо 26% - (-2%).\n",
    "        \n",
    "        Результаты получили на уровне значимости в 95% (использовали `alpha=0.05`)\n",
    "        \n",
    "        \n",
    "3. **Решение по результатам теста**\n",
    "    - Приняли решение остановить тест и зафиксировать прирост конверсии на 18% в группе **В**. Нововведение значительно увеличило конверсию, но не повлияло на средний чек."
   ]
  }
 ],
 "metadata": {
  "kernelspec": {
   "display_name": "Python 3",
   "language": "python",
   "name": "python3"
  },
  "language_info": {
   "codemirror_mode": {
    "name": "ipython",
    "version": 3
   },
   "file_extension": ".py",
   "mimetype": "text/x-python",
   "name": "python",
   "nbconvert_exporter": "python",
   "pygments_lexer": "ipython3",
   "version": "3.7.8"
  },
  "toc": {
   "base_numbering": 1,
   "nav_menu": {},
   "number_sections": true,
   "sideBar": true,
   "skip_h1_title": true,
   "title_cell": "Содержание",
   "title_sidebar": "Contents",
   "toc_cell": true,
   "toc_position": {
    "height": "calc(100% - 180px)",
    "left": "10px",
    "top": "150px",
    "width": "312.65px"
   },
   "toc_section_display": true,
   "toc_window_display": false
  }
 },
 "nbformat": 4,
 "nbformat_minor": 2
}
