{
 "cells": [
  {
   "cell_type": "markdown",
   "metadata": {},
   "source": [
    "# Определение перспективного тарифа для телеком компании"
   ]
  },
  {
   "cell_type": "markdown",
   "metadata": {},
   "source": [
    "Нам предстоит сделать предварительный анализ тарифов клиентов, для этого у нас есть выборка, состоящая из данных о 500 клиентов \"Мегалайна\". Выборка содержит информацию: кто они, откуда, каким тарифом пользуются, сколько звонков и сообщений каждый отправил за 2018 год. Цель проекта - Выяснить, какой тариф приносит больше денег: \"Смарт\" или \"Ультра\". "
   ]
  },
  {
   "cell_type": "markdown",
   "metadata": {
    "toc": true
   },
   "source": [
    "<h1>Содержание<span class=\"tocSkip\"></span></h1>\n",
    "<div class=\"toc\"><ul class=\"toc-item\"><li><span><a href=\"#Шаг-1.-Объединение,-изучение-общей-информации.\" data-toc-modified-id=\"Шаг-1.-Объединение,-изучение-общей-информации.-1\"><span class=\"toc-item-num\">1&nbsp;&nbsp;</span>Шаг 1. Объединение, изучение общей информации.</a></span><ul class=\"toc-item\"><li><span><a href=\"#DF-Calls\" data-toc-modified-id=\"DF-Calls-1.1\"><span class=\"toc-item-num\">1.1&nbsp;&nbsp;</span><code>DF Calls</code></a></span></li><li><span><a href=\"#Вывод\" data-toc-modified-id=\"Вывод-1.2\"><span class=\"toc-item-num\">1.2&nbsp;&nbsp;</span>Вывод</a></span></li><li><span><a href=\"#DF-Internet\" data-toc-modified-id=\"DF-Internet-1.3\"><span class=\"toc-item-num\">1.3&nbsp;&nbsp;</span><code>DF Internet</code></a></span></li><li><span><a href=\"#Вывод\" data-toc-modified-id=\"Вывод-1.4\"><span class=\"toc-item-num\">1.4&nbsp;&nbsp;</span>Вывод</a></span></li><li><span><a href=\"#DF-Messages\" data-toc-modified-id=\"DF-Messages-1.5\"><span class=\"toc-item-num\">1.5&nbsp;&nbsp;</span><code>DF Messages</code></a></span></li><li><span><a href=\"#Вывод\" data-toc-modified-id=\"Вывод-1.6\"><span class=\"toc-item-num\">1.6&nbsp;&nbsp;</span>Вывод</a></span></li><li><span><a href=\"#DF-Tariffs\" data-toc-modified-id=\"DF-Tariffs-1.7\"><span class=\"toc-item-num\">1.7&nbsp;&nbsp;</span><code>DF Tariffs</code></a></span></li><li><span><a href=\"#Вывод\" data-toc-modified-id=\"Вывод-1.8\"><span class=\"toc-item-num\">1.8&nbsp;&nbsp;</span>Вывод</a></span></li><li><span><a href=\"#DF-Users\" data-toc-modified-id=\"DF-Users-1.9\"><span class=\"toc-item-num\">1.9&nbsp;&nbsp;</span><code>DF Users</code></a></span></li><li><span><a href=\"#Вывод\" data-toc-modified-id=\"Вывод-1.10\"><span class=\"toc-item-num\">1.10&nbsp;&nbsp;</span>Вывод</a></span></li><li><span><a href=\"#Объединение\" data-toc-modified-id=\"Объединение-1.11\"><span class=\"toc-item-num\">1.11&nbsp;&nbsp;</span>Объединение</a></span></li></ul></li><li><span><a href=\"#Вывод\" data-toc-modified-id=\"Вывод-2\"><span class=\"toc-item-num\">2&nbsp;&nbsp;</span>Вывод</a></span></li><li><span><a href=\"#Шаг-2.-Подготовка-данных\" data-toc-modified-id=\"Шаг-2.-Подготовка-данных-3\"><span class=\"toc-item-num\">3&nbsp;&nbsp;</span>Шаг 2. Подготовка данных</a></span><ul class=\"toc-item\"><li><span><a href=\"#Изменение-типов-данных\" data-toc-modified-id=\"Изменение-типов-данных-3.1\"><span class=\"toc-item-num\">3.1&nbsp;&nbsp;</span>Изменение типов данных</a></span></li><li><span><a href=\"#Вывод\" data-toc-modified-id=\"Вывод-3.2\"><span class=\"toc-item-num\">3.2&nbsp;&nbsp;</span>Вывод</a></span></li><li><span><a href=\"#Обработка-пропусков\" data-toc-modified-id=\"Обработка-пропусков-3.3\"><span class=\"toc-item-num\">3.3&nbsp;&nbsp;</span>Обработка пропусков</a></span><ul class=\"toc-item\"><li><span><a href=\"#month\" data-toc-modified-id=\"month-3.3.1\"><span class=\"toc-item-num\">3.3.1&nbsp;&nbsp;</span><code>month</code></a></span></li><li><span><a href=\"#Вывод\" data-toc-modified-id=\"Вывод-3.3.2\"><span class=\"toc-item-num\">3.3.2&nbsp;&nbsp;</span>Вывод</a></span></li><li><span><a href=\"#duration,-mb_used,-messages\" data-toc-modified-id=\"duration,-mb_used,-messages-3.3.3\"><span class=\"toc-item-num\">3.3.3&nbsp;&nbsp;</span><code>duration</code>, <code>mb_used</code>, <code>messages</code></a></span></li><li><span><a href=\"#Вывод\" data-toc-modified-id=\"Вывод-3.3.4\"><span class=\"toc-item-num\">3.3.4&nbsp;&nbsp;</span>Вывод</a></span></li><li><span><a href=\"#churn_date\" data-toc-modified-id=\"churn_date-3.3.5\"><span class=\"toc-item-num\">3.3.5&nbsp;&nbsp;</span><code>churn_date</code></a></span></li></ul></li><li><span><a href=\"#Вывод\" data-toc-modified-id=\"Вывод-3.4\"><span class=\"toc-item-num\">3.4&nbsp;&nbsp;</span>Вывод</a></span></li><li><span><a href=\"#Поиск-и-исправление-ошибок\" data-toc-modified-id=\"Поиск-и-исправление-ошибок-3.5\"><span class=\"toc-item-num\">3.5&nbsp;&nbsp;</span>Поиск и исправление ошибок</a></span><ul class=\"toc-item\"><li><span><a href=\"#duration\" data-toc-modified-id=\"duration-3.5.1\"><span class=\"toc-item-num\">3.5.1&nbsp;&nbsp;</span><code>duration</code></a></span></li><li><span><a href=\"#Вывод\" data-toc-modified-id=\"Вывод-3.5.2\"><span class=\"toc-item-num\">3.5.2&nbsp;&nbsp;</span>Вывод</a></span></li><li><span><a href=\"#mb_used\" data-toc-modified-id=\"mb_used-3.5.3\"><span class=\"toc-item-num\">3.5.3&nbsp;&nbsp;</span><code>mb_used</code></a></span></li><li><span><a href=\"#Вывод\" data-toc-modified-id=\"Вывод-3.5.4\"><span class=\"toc-item-num\">3.5.4&nbsp;&nbsp;</span>Вывод</a></span></li><li><span><a href=\"#messages\" data-toc-modified-id=\"messages-3.5.5\"><span class=\"toc-item-num\">3.5.5&nbsp;&nbsp;</span><code>messages</code></a></span></li><li><span><a href=\"#Вывод\" data-toc-modified-id=\"Вывод-3.5.6\"><span class=\"toc-item-num\">3.5.6&nbsp;&nbsp;</span>Вывод</a></span></li></ul></li><li><span><a href=\"#Вывод\" data-toc-modified-id=\"Вывод-3.6\"><span class=\"toc-item-num\">3.6&nbsp;&nbsp;</span>Вывод</a></span></li><li><span><a href=\"#Подсчет-значений\" data-toc-modified-id=\"Подсчет-значений-3.7\"><span class=\"toc-item-num\">3.7&nbsp;&nbsp;</span>Подсчет значений</a></span></li><li><span><a href=\"#Вывод\" data-toc-modified-id=\"Вывод-3.8\"><span class=\"toc-item-num\">3.8&nbsp;&nbsp;</span>Вывод</a></span></li></ul></li><li><span><a href=\"#Шаг-3.-Анализ-данных\" data-toc-modified-id=\"Шаг-3.-Анализ-данных-4\"><span class=\"toc-item-num\">4&nbsp;&nbsp;</span>Шаг 3. Анализ данных</a></span><ul class=\"toc-item\"><li><span><a href=\"#Минуты-разговора\" data-toc-modified-id=\"Минуты-разговора-4.1\"><span class=\"toc-item-num\">4.1&nbsp;&nbsp;</span>Минуты разговора</a></span></li><li><span><a href=\"#Вывод\" data-toc-modified-id=\"Вывод-4.2\"><span class=\"toc-item-num\">4.2&nbsp;&nbsp;</span>Вывод</a></span></li><li><span><a href=\"#Количество-мегабайт\" data-toc-modified-id=\"Количество-мегабайт-4.3\"><span class=\"toc-item-num\">4.3&nbsp;&nbsp;</span>Количество мегабайт</a></span></li><li><span><a href=\"#Вывод\" data-toc-modified-id=\"Вывод-4.4\"><span class=\"toc-item-num\">4.4&nbsp;&nbsp;</span>Вывод</a></span></li><li><span><a href=\"#Количество-сообщений\" data-toc-modified-id=\"Количество-сообщений-4.5\"><span class=\"toc-item-num\">4.5&nbsp;&nbsp;</span>Количество сообщений</a></span></li><li><span><a href=\"#Вывод\" data-toc-modified-id=\"Вывод-4.6\"><span class=\"toc-item-num\">4.6&nbsp;&nbsp;</span>Вывод</a></span></li></ul></li><li><span><a href=\"#Шаг-4.-Проверка-гипотез\" data-toc-modified-id=\"Шаг-4.-Проверка-гипотез-5\"><span class=\"toc-item-num\">5&nbsp;&nbsp;</span>Шаг 4. Проверка гипотез</a></span><ul class=\"toc-item\"><li><span><a href=\"#Средняя-выручка-пользователей-тарифов-«Ультра»-и-«Смарт»\" data-toc-modified-id=\"Средняя-выручка-пользователей-тарифов-«Ультра»-и-«Смарт»-5.1\"><span class=\"toc-item-num\">5.1&nbsp;&nbsp;</span>Средняя выручка пользователей тарифов «Ультра» и «Смарт»</a></span></li><li><span><a href=\"#Вывод\" data-toc-modified-id=\"Вывод-5.2\"><span class=\"toc-item-num\">5.2&nbsp;&nbsp;</span>Вывод</a></span></li><li><span><a href=\"#Средняя-выручка-пользователей-из-Москвы-и-из-регионов.\" data-toc-modified-id=\"Средняя-выручка-пользователей-из-Москвы-и-из-регионов.-5.3\"><span class=\"toc-item-num\">5.3&nbsp;&nbsp;</span>Средняя выручка пользователей из Москвы и из регионов.</a></span></li><li><span><a href=\"#Вывод\" data-toc-modified-id=\"Вывод-5.4\"><span class=\"toc-item-num\">5.4&nbsp;&nbsp;</span>Вывод</a></span></li></ul></li><li><span><a href=\"#Общий-вывод\" data-toc-modified-id=\"Общий-вывод-6\"><span class=\"toc-item-num\">6&nbsp;&nbsp;</span>Общий вывод</a></span></li></ul></div>"
   ]
  },
  {
   "cell_type": "markdown",
   "metadata": {},
   "source": [
    "## Шаг 1. Объединение, изучение общей информации."
   ]
  },
  {
   "cell_type": "markdown",
   "metadata": {},
   "source": [
    "Импротируем необходимые библиотеки"
   ]
  },
  {
   "cell_type": "code",
   "execution_count": 1,
   "metadata": {},
   "outputs": [
    {
     "data": {
      "image/png": "[encoded data removed]",
      "text/plain": [
       "<Figure size 720x72 with 1 Axes>"
      ]
     },
     "metadata": {},
     "output_type": "display_data"
    }
   ],
   "source": [
    "import pandas as pd\n",
    "import numpy as np\n",
    "import matplotlib.pyplot as plt\n",
    "import seaborn as sns\n",
    "import statsmodels.api as sm\n",
    "from scipy import stats as st\n",
    "from IPython.display import display\n",
    "\n",
    "pd.set_option('max_columns', None)\n",
    "sns.set_palette('colorblind')\n",
    "sns.set_style('darkgrid')\n",
    "pal = sns.color_palette('colorblind')\n",
    "sns.palplot(pal)"
   ]
  },
  {
   "cell_type": "markdown",
   "metadata": {},
   "source": [
    "### `DF Calls`"
   ]
  },
  {
   "cell_type": "code",
   "execution_count": 2,
   "metadata": {},
   "outputs": [
    {
     "name": "stdout",
     "output_type": "stream",
     "text": [
      "<class 'pandas.core.frame.DataFrame'>\n",
      "RangeIndex: 3174 entries, 0 to 3173\n",
      "Data columns (total 3 columns):\n",
      "user_id     3174 non-null int64\n",
      "month       3174 non-null int64\n",
      "duration    3174 non-null float64\n",
      "dtypes: float64(1), int64(2)\n",
      "memory usage: 74.5 KB\n"
     ]
    },
    {
     "data": {
      "text/html": [
       "<div>\n",
       "<style scoped>\n",
       "    .dataframe tbody tr th:only-of-type {\n",
       "        vertical-align: middle;\n",
       "    }\n",
       "\n",
       "    .dataframe tbody tr th {\n",
       "        vertical-align: top;\n",
       "    }\n",
       "\n",
       "    .dataframe thead th {\n",
       "        text-align: right;\n",
       "    }\n",
       "</style>\n",
       "<table border=\"1\" class=\"dataframe\">\n",
       "  <thead>\n",
       "    <tr style=\"text-align: right;\">\n",
       "      <th></th>\n",
       "      <th>user_id</th>\n",
       "      <th>month</th>\n",
       "      <th>duration</th>\n",
       "    </tr>\n",
       "  </thead>\n",
       "  <tbody>\n",
       "    <tr>\n",
       "      <td>0</td>\n",
       "      <td>1000</td>\n",
       "      <td>5</td>\n",
       "      <td>159.0</td>\n",
       "    </tr>\n",
       "    <tr>\n",
       "      <td>1</td>\n",
       "      <td>1000</td>\n",
       "      <td>6</td>\n",
       "      <td>172.0</td>\n",
       "    </tr>\n",
       "    <tr>\n",
       "      <td>2</td>\n",
       "      <td>1000</td>\n",
       "      <td>7</td>\n",
       "      <td>340.0</td>\n",
       "    </tr>\n",
       "    <tr>\n",
       "      <td>3</td>\n",
       "      <td>1000</td>\n",
       "      <td>8</td>\n",
       "      <td>408.0</td>\n",
       "    </tr>\n",
       "    <tr>\n",
       "      <td>4</td>\n",
       "      <td>1000</td>\n",
       "      <td>9</td>\n",
       "      <td>466.0</td>\n",
       "    </tr>\n",
       "    <tr>\n",
       "      <td>...</td>\n",
       "      <td>...</td>\n",
       "      <td>...</td>\n",
       "      <td>...</td>\n",
       "    </tr>\n",
       "    <tr>\n",
       "      <td>3169</td>\n",
       "      <td>1498</td>\n",
       "      <td>10</td>\n",
       "      <td>247.0</td>\n",
       "    </tr>\n",
       "    <tr>\n",
       "      <td>3170</td>\n",
       "      <td>1499</td>\n",
       "      <td>9</td>\n",
       "      <td>70.0</td>\n",
       "    </tr>\n",
       "    <tr>\n",
       "      <td>3171</td>\n",
       "      <td>1499</td>\n",
       "      <td>10</td>\n",
       "      <td>449.0</td>\n",
       "    </tr>\n",
       "    <tr>\n",
       "      <td>3172</td>\n",
       "      <td>1499</td>\n",
       "      <td>11</td>\n",
       "      <td>612.0</td>\n",
       "    </tr>\n",
       "    <tr>\n",
       "      <td>3173</td>\n",
       "      <td>1499</td>\n",
       "      <td>12</td>\n",
       "      <td>492.0</td>\n",
       "    </tr>\n",
       "  </tbody>\n",
       "</table>\n",
       "<p>3174 rows × 3 columns</p>\n",
       "</div>"
      ],
      "text/plain": [
       "      user_id  month  duration\n",
       "0        1000      5     159.0\n",
       "1        1000      6     172.0\n",
       "2        1000      7     340.0\n",
       "3        1000      8     408.0\n",
       "4        1000      9     466.0\n",
       "...       ...    ...       ...\n",
       "3169     1498     10     247.0\n",
       "3170     1499      9      70.0\n",
       "3171     1499     10     449.0\n",
       "3172     1499     11     612.0\n",
       "3173     1499     12     492.0\n",
       "\n",
       "[3174 rows x 3 columns]"
      ]
     },
     "execution_count": 2,
     "metadata": {},
     "output_type": "execute_result"
    }
   ],
   "source": [
    "df_calls = pd.read_csv('/datasets/calls.csv')\n",
    "\n",
    "df_calls['call_date'] = pd.to_datetime(df_calls['call_date'])\n",
    "df_calls['month'] = df_calls['call_date'].dt.month\n",
    "\n",
    "df_calls['duration'] = np.ceil(df_calls['duration'])\n",
    "\n",
    "df_calls = df_calls.groupby(['user_id', 'month']).sum().reset_index()\n",
    "\n",
    "df_calls.info()\n",
    "df_calls"
   ]
  },
  {
   "cell_type": "markdown",
   "metadata": {},
   "source": [
    "### Вывод"
   ]
  },
  {
   "cell_type": "markdown",
   "metadata": {},
   "source": [
    "В столбце `call_date` изменили тип на `datetime`. Столбец `duration` округлили вверх методом `np.ceil`, так как \"Мегалайн\" округляет минуты вверх. Сгруппировали данные по по созданному столбцу `month`(месяцу) и `user_id` для последующего объединения. Пропуски в данных не обнаружены."
   ]
  },
  {
   "cell_type": "markdown",
   "metadata": {},
   "source": [
    "### `DF Internet`"
   ]
  },
  {
   "cell_type": "code",
   "execution_count": 3,
   "metadata": {},
   "outputs": [
    {
     "name": "stdout",
     "output_type": "stream",
     "text": [
      "<class 'pandas.core.frame.DataFrame'>\n",
      "RangeIndex: 3203 entries, 0 to 3202\n",
      "Data columns (total 3 columns):\n",
      "user_id    3203 non-null int64\n",
      "month      3203 non-null int64\n",
      "mb_used    3203 non-null float64\n",
      "dtypes: float64(1), int64(2)\n",
      "memory usage: 75.2 KB\n"
     ]
    },
    {
     "data": {
      "text/html": [
       "<div>\n",
       "<style scoped>\n",
       "    .dataframe tbody tr th:only-of-type {\n",
       "        vertical-align: middle;\n",
       "    }\n",
       "\n",
       "    .dataframe tbody tr th {\n",
       "        vertical-align: top;\n",
       "    }\n",
       "\n",
       "    .dataframe thead th {\n",
       "        text-align: right;\n",
       "    }\n",
       "</style>\n",
       "<table border=\"1\" class=\"dataframe\">\n",
       "  <thead>\n",
       "    <tr style=\"text-align: right;\">\n",
       "      <th></th>\n",
       "      <th>user_id</th>\n",
       "      <th>month</th>\n",
       "      <th>mb_used</th>\n",
       "    </tr>\n",
       "  </thead>\n",
       "  <tbody>\n",
       "    <tr>\n",
       "      <td>0</td>\n",
       "      <td>1000</td>\n",
       "      <td>5</td>\n",
       "      <td>2256.0</td>\n",
       "    </tr>\n",
       "    <tr>\n",
       "      <td>1</td>\n",
       "      <td>1000</td>\n",
       "      <td>6</td>\n",
       "      <td>23257.0</td>\n",
       "    </tr>\n",
       "    <tr>\n",
       "      <td>2</td>\n",
       "      <td>1000</td>\n",
       "      <td>7</td>\n",
       "      <td>14016.0</td>\n",
       "    </tr>\n",
       "    <tr>\n",
       "      <td>3</td>\n",
       "      <td>1000</td>\n",
       "      <td>8</td>\n",
       "      <td>14070.0</td>\n",
       "    </tr>\n",
       "    <tr>\n",
       "      <td>4</td>\n",
       "      <td>1000</td>\n",
       "      <td>9</td>\n",
       "      <td>14581.0</td>\n",
       "    </tr>\n",
       "    <tr>\n",
       "      <td>...</td>\n",
       "      <td>...</td>\n",
       "      <td>...</td>\n",
       "      <td>...</td>\n",
       "    </tr>\n",
       "    <tr>\n",
       "      <td>3198</td>\n",
       "      <td>1498</td>\n",
       "      <td>10</td>\n",
       "      <td>20604.0</td>\n",
       "    </tr>\n",
       "    <tr>\n",
       "      <td>3199</td>\n",
       "      <td>1499</td>\n",
       "      <td>9</td>\n",
       "      <td>1848.0</td>\n",
       "    </tr>\n",
       "    <tr>\n",
       "      <td>3200</td>\n",
       "      <td>1499</td>\n",
       "      <td>10</td>\n",
       "      <td>17809.0</td>\n",
       "    </tr>\n",
       "    <tr>\n",
       "      <td>3201</td>\n",
       "      <td>1499</td>\n",
       "      <td>11</td>\n",
       "      <td>17984.0</td>\n",
       "    </tr>\n",
       "    <tr>\n",
       "      <td>3202</td>\n",
       "      <td>1499</td>\n",
       "      <td>12</td>\n",
       "      <td>13077.0</td>\n",
       "    </tr>\n",
       "  </tbody>\n",
       "</table>\n",
       "<p>3203 rows × 3 columns</p>\n",
       "</div>"
      ],
      "text/plain": [
       "      user_id  month  mb_used\n",
       "0        1000      5   2256.0\n",
       "1        1000      6  23257.0\n",
       "2        1000      7  14016.0\n",
       "3        1000      8  14070.0\n",
       "4        1000      9  14581.0\n",
       "...       ...    ...      ...\n",
       "3198     1498     10  20604.0\n",
       "3199     1499      9   1848.0\n",
       "3200     1499     10  17809.0\n",
       "3201     1499     11  17984.0\n",
       "3202     1499     12  13077.0\n",
       "\n",
       "[3203 rows x 3 columns]"
      ]
     },
     "execution_count": 3,
     "metadata": {},
     "output_type": "execute_result"
    }
   ],
   "source": [
    "df_internet = pd.read_csv('/datasets/internet.csv')\n",
    "\n",
    "df_internet['session_date'] = pd.to_datetime(df_internet['session_date'])\n",
    "df_internet['month'] = df_internet['session_date'].dt.month\n",
    "\n",
    "df_internet = df_internet.drop('Unnamed: 0', axis=1)\n",
    "\n",
    "df_internet['mb_used'] = np.ceil(df_internet['mb_used'])\n",
    "\n",
    "df_internet = df_internet.groupby(['user_id', 'month']).sum().reset_index()\n",
    "\n",
    "df_internet.info()\n",
    "df_internet"
   ]
  },
  {
   "cell_type": "markdown",
   "metadata": {},
   "source": [
    "### Вывод"
   ]
  },
  {
   "cell_type": "markdown",
   "metadata": {},
   "source": [
    "В столбце `session_date` изменили тип на `datetime`. Удалили стобец `Unnamed: 0`, который дублировал индексацию. Округлили значения вверх. Сгруппировали данные по по созданному столбцу `month`(месяцу) и `user_id` для последующего объединения. Пропуски в данных не обнаружены."
   ]
  },
  {
   "cell_type": "markdown",
   "metadata": {},
   "source": [
    "### `DF Messages`"
   ]
  },
  {
   "cell_type": "code",
   "execution_count": 4,
   "metadata": {},
   "outputs": [
    {
     "name": "stdout",
     "output_type": "stream",
     "text": [
      "<class 'pandas.core.frame.DataFrame'>\n",
      "RangeIndex: 2717 entries, 0 to 2716\n",
      "Data columns (total 3 columns):\n",
      "user_id     2717 non-null int64\n",
      "month       2717 non-null int64\n",
      "messages    2717 non-null int64\n",
      "dtypes: int64(3)\n",
      "memory usage: 63.8 KB\n"
     ]
    },
    {
     "data": {
      "text/html": [
       "<div>\n",
       "<style scoped>\n",
       "    .dataframe tbody tr th:only-of-type {\n",
       "        vertical-align: middle;\n",
       "    }\n",
       "\n",
       "    .dataframe tbody tr th {\n",
       "        vertical-align: top;\n",
       "    }\n",
       "\n",
       "    .dataframe thead th {\n",
       "        text-align: right;\n",
       "    }\n",
       "</style>\n",
       "<table border=\"1\" class=\"dataframe\">\n",
       "  <thead>\n",
       "    <tr style=\"text-align: right;\">\n",
       "      <th></th>\n",
       "      <th>user_id</th>\n",
       "      <th>month</th>\n",
       "      <th>messages</th>\n",
       "    </tr>\n",
       "  </thead>\n",
       "  <tbody>\n",
       "    <tr>\n",
       "      <td>0</td>\n",
       "      <td>1000</td>\n",
       "      <td>5</td>\n",
       "      <td>22</td>\n",
       "    </tr>\n",
       "    <tr>\n",
       "      <td>1</td>\n",
       "      <td>1000</td>\n",
       "      <td>6</td>\n",
       "      <td>60</td>\n",
       "    </tr>\n",
       "    <tr>\n",
       "      <td>2</td>\n",
       "      <td>1000</td>\n",
       "      <td>7</td>\n",
       "      <td>75</td>\n",
       "    </tr>\n",
       "    <tr>\n",
       "      <td>3</td>\n",
       "      <td>1000</td>\n",
       "      <td>8</td>\n",
       "      <td>81</td>\n",
       "    </tr>\n",
       "    <tr>\n",
       "      <td>4</td>\n",
       "      <td>1000</td>\n",
       "      <td>9</td>\n",
       "      <td>57</td>\n",
       "    </tr>\n",
       "    <tr>\n",
       "      <td>...</td>\n",
       "      <td>...</td>\n",
       "      <td>...</td>\n",
       "      <td>...</td>\n",
       "    </tr>\n",
       "    <tr>\n",
       "      <td>2712</td>\n",
       "      <td>1498</td>\n",
       "      <td>10</td>\n",
       "      <td>42</td>\n",
       "    </tr>\n",
       "    <tr>\n",
       "      <td>2713</td>\n",
       "      <td>1499</td>\n",
       "      <td>9</td>\n",
       "      <td>11</td>\n",
       "    </tr>\n",
       "    <tr>\n",
       "      <td>2714</td>\n",
       "      <td>1499</td>\n",
       "      <td>10</td>\n",
       "      <td>48</td>\n",
       "    </tr>\n",
       "    <tr>\n",
       "      <td>2715</td>\n",
       "      <td>1499</td>\n",
       "      <td>11</td>\n",
       "      <td>59</td>\n",
       "    </tr>\n",
       "    <tr>\n",
       "      <td>2716</td>\n",
       "      <td>1499</td>\n",
       "      <td>12</td>\n",
       "      <td>66</td>\n",
       "    </tr>\n",
       "  </tbody>\n",
       "</table>\n",
       "<p>2717 rows × 3 columns</p>\n",
       "</div>"
      ],
      "text/plain": [
       "      user_id  month  messages\n",
       "0        1000      5        22\n",
       "1        1000      6        60\n",
       "2        1000      7        75\n",
       "3        1000      8        81\n",
       "4        1000      9        57\n",
       "...       ...    ...       ...\n",
       "2712     1498     10        42\n",
       "2713     1499      9        11\n",
       "2714     1499     10        48\n",
       "2715     1499     11        59\n",
       "2716     1499     12        66\n",
       "\n",
       "[2717 rows x 3 columns]"
      ]
     },
     "execution_count": 4,
     "metadata": {},
     "output_type": "execute_result"
    }
   ],
   "source": [
    "df_messages = pd.read_csv('/datasets/messages.csv')\n",
    "\n",
    "df_messages['message_date'] = pd.to_datetime(df_messages['message_date'])\n",
    "df_messages['month'] = df_messages['message_date'].dt.month\n",
    "\n",
    "df_messages = df_messages.rename(columns={'message_date':'messages'})\n",
    "\n",
    "df_messages = df_messages.groupby(['user_id', 'month'])['messages'].count().reset_index()\n",
    "\n",
    "df_messages.info()\n",
    "df_messages"
   ]
  },
  {
   "cell_type": "markdown",
   "metadata": {},
   "source": [
    "### Вывод"
   ]
  },
  {
   "cell_type": "markdown",
   "metadata": {},
   "source": [
    "В столбце `message_date` изменили тип на `datetime`. Изменили названия столбца `message_date` на `message`, так как будем использовать его в качестве счетчика сообщений. Сгруппировали данные по созданному столбцу `month`(месяцу) и `user_id` для последующего объединения. Пропуски в данных не обнаружены."
   ]
  },
  {
   "cell_type": "markdown",
   "metadata": {},
   "source": [
    "### `DF Tariffs`"
   ]
  },
  {
   "cell_type": "code",
   "execution_count": 5,
   "metadata": {},
   "outputs": [
    {
     "name": "stdout",
     "output_type": "stream",
     "text": [
      "<class 'pandas.core.frame.DataFrame'>\n",
      "RangeIndex: 2 entries, 0 to 1\n",
      "Data columns (total 8 columns):\n",
      "messages_included        2 non-null int64\n",
      "mb_per_month_included    2 non-null int64\n",
      "minutes_included         2 non-null int64\n",
      "rub_monthly_fee          2 non-null int64\n",
      "rub_per_gb               2 non-null int64\n",
      "rub_per_message          2 non-null int64\n",
      "rub_per_minute           2 non-null int64\n",
      "tariff                   2 non-null object\n",
      "dtypes: int64(7), object(1)\n",
      "memory usage: 256.0+ bytes\n"
     ]
    },
    {
     "data": {
      "text/html": [
       "<div>\n",
       "<style scoped>\n",
       "    .dataframe tbody tr th:only-of-type {\n",
       "        vertical-align: middle;\n",
       "    }\n",
       "\n",
       "    .dataframe tbody tr th {\n",
       "        vertical-align: top;\n",
       "    }\n",
       "\n",
       "    .dataframe thead th {\n",
       "        text-align: right;\n",
       "    }\n",
       "</style>\n",
       "<table border=\"1\" class=\"dataframe\">\n",
       "  <thead>\n",
       "    <tr style=\"text-align: right;\">\n",
       "      <th></th>\n",
       "      <th>messages_included</th>\n",
       "      <th>mb_per_month_included</th>\n",
       "      <th>minutes_included</th>\n",
       "      <th>rub_monthly_fee</th>\n",
       "      <th>rub_per_gb</th>\n",
       "      <th>rub_per_message</th>\n",
       "      <th>rub_per_minute</th>\n",
       "      <th>tariff</th>\n",
       "    </tr>\n",
       "  </thead>\n",
       "  <tbody>\n",
       "    <tr>\n",
       "      <td>0</td>\n",
       "      <td>50</td>\n",
       "      <td>15360</td>\n",
       "      <td>500</td>\n",
       "      <td>550</td>\n",
       "      <td>200</td>\n",
       "      <td>3</td>\n",
       "      <td>3</td>\n",
       "      <td>smart</td>\n",
       "    </tr>\n",
       "    <tr>\n",
       "      <td>1</td>\n",
       "      <td>1000</td>\n",
       "      <td>30720</td>\n",
       "      <td>3000</td>\n",
       "      <td>1950</td>\n",
       "      <td>150</td>\n",
       "      <td>1</td>\n",
       "      <td>1</td>\n",
       "      <td>ultra</td>\n",
       "    </tr>\n",
       "  </tbody>\n",
       "</table>\n",
       "</div>"
      ],
      "text/plain": [
       "   messages_included  mb_per_month_included  minutes_included  \\\n",
       "0                 50                  15360               500   \n",
       "1               1000                  30720              3000   \n",
       "\n",
       "   rub_monthly_fee  rub_per_gb  rub_per_message  rub_per_minute tariff  \n",
       "0              550         200                3               3  smart  \n",
       "1             1950         150                1               1  ultra  "
      ]
     },
     "metadata": {},
     "output_type": "display_data"
    }
   ],
   "source": [
    "df_tariffs = pd.read_csv('/datasets/tariffs.csv')\n",
    "df_tariffs = df_tariffs.rename(columns={'tariff_name':'tariff'})\n",
    "df_tariffs.info()\n",
    "display(df_tariffs)"
   ]
  },
  {
   "cell_type": "markdown",
   "metadata": {},
   "source": [
    "### Вывод"
   ]
  },
  {
   "cell_type": "markdown",
   "metadata": {},
   "source": [
    "Данные в порядке"
   ]
  },
  {
   "cell_type": "markdown",
   "metadata": {},
   "source": [
    "### `DF Users`"
   ]
  },
  {
   "cell_type": "code",
   "execution_count": 6,
   "metadata": {},
   "outputs": [
    {
     "name": "stdout",
     "output_type": "stream",
     "text": [
      "<class 'pandas.core.frame.DataFrame'>\n",
      "RangeIndex: 500 entries, 0 to 499\n",
      "Data columns (total 8 columns):\n",
      "user_id       500 non-null int64\n",
      "age           500 non-null int64\n",
      "churn_date    38 non-null object\n",
      "city          500 non-null object\n",
      "first_name    500 non-null object\n",
      "last_name     500 non-null object\n",
      "reg_date      500 non-null object\n",
      "tariff        500 non-null object\n",
      "dtypes: int64(2), object(6)\n",
      "memory usage: 31.4+ KB\n"
     ]
    },
    {
     "data": {
      "text/html": [
       "<div>\n",
       "<style scoped>\n",
       "    .dataframe tbody tr th:only-of-type {\n",
       "        vertical-align: middle;\n",
       "    }\n",
       "\n",
       "    .dataframe tbody tr th {\n",
       "        vertical-align: top;\n",
       "    }\n",
       "\n",
       "    .dataframe thead th {\n",
       "        text-align: right;\n",
       "    }\n",
       "</style>\n",
       "<table border=\"1\" class=\"dataframe\">\n",
       "  <thead>\n",
       "    <tr style=\"text-align: right;\">\n",
       "      <th></th>\n",
       "      <th>user_id</th>\n",
       "      <th>age</th>\n",
       "      <th>churn_date</th>\n",
       "      <th>city</th>\n",
       "      <th>first_name</th>\n",
       "      <th>last_name</th>\n",
       "      <th>reg_date</th>\n",
       "      <th>tariff</th>\n",
       "    </tr>\n",
       "  </thead>\n",
       "  <tbody>\n",
       "    <tr>\n",
       "      <td>178</td>\n",
       "      <td>1178</td>\n",
       "      <td>56</td>\n",
       "      <td>NaN</td>\n",
       "      <td>Москва</td>\n",
       "      <td>Наталья</td>\n",
       "      <td>Жарова</td>\n",
       "      <td>2018-05-15</td>\n",
       "      <td>smart</td>\n",
       "    </tr>\n",
       "    <tr>\n",
       "      <td>3</td>\n",
       "      <td>1003</td>\n",
       "      <td>23</td>\n",
       "      <td>NaN</td>\n",
       "      <td>Москва</td>\n",
       "      <td>Белла</td>\n",
       "      <td>Белякова</td>\n",
       "      <td>2018-08-17</td>\n",
       "      <td>ultra</td>\n",
       "    </tr>\n",
       "    <tr>\n",
       "      <td>319</td>\n",
       "      <td>1319</td>\n",
       "      <td>70</td>\n",
       "      <td>NaN</td>\n",
       "      <td>Санкт-Петербург</td>\n",
       "      <td>Харитон</td>\n",
       "      <td>Парфенов</td>\n",
       "      <td>2018-08-24</td>\n",
       "      <td>smart</td>\n",
       "    </tr>\n",
       "    <tr>\n",
       "      <td>270</td>\n",
       "      <td>1270</td>\n",
       "      <td>18</td>\n",
       "      <td>NaN</td>\n",
       "      <td>Нижневартовск</td>\n",
       "      <td>Мальвина</td>\n",
       "      <td>Вешнякова</td>\n",
       "      <td>2018-07-01</td>\n",
       "      <td>ultra</td>\n",
       "    </tr>\n",
       "    <tr>\n",
       "      <td>112</td>\n",
       "      <td>1112</td>\n",
       "      <td>51</td>\n",
       "      <td>NaN</td>\n",
       "      <td>Ульяновск</td>\n",
       "      <td>Арнольд</td>\n",
       "      <td>Казанцев</td>\n",
       "      <td>2018-09-04</td>\n",
       "      <td>smart</td>\n",
       "    </tr>\n",
       "  </tbody>\n",
       "</table>\n",
       "</div>"
      ],
      "text/plain": [
       "     user_id  age churn_date             city first_name  last_name  \\\n",
       "178     1178   56        NaN           Москва    Наталья     Жарова   \n",
       "3       1003   23        NaN           Москва      Белла   Белякова   \n",
       "319     1319   70        NaN  Санкт-Петербург    Харитон   Парфенов   \n",
       "270     1270   18        NaN    Нижневартовск   Мальвина  Вешнякова   \n",
       "112     1112   51        NaN        Ульяновск    Арнольд   Казанцев   \n",
       "\n",
       "       reg_date tariff  \n",
       "178  2018-05-15  smart  \n",
       "3    2018-08-17  ultra  \n",
       "319  2018-08-24  smart  \n",
       "270  2018-07-01  ultra  \n",
       "112  2018-09-04  smart  "
      ]
     },
     "execution_count": 6,
     "metadata": {},
     "output_type": "execute_result"
    }
   ],
   "source": [
    "df_users = pd.read_csv('/datasets/users.csv')\n",
    "df_users.info()\n",
    "df_users.sample(5)"
   ]
  },
  {
   "cell_type": "markdown",
   "metadata": {},
   "source": [
    "### Вывод"
   ]
  },
  {
   "cell_type": "markdown",
   "metadata": {},
   "source": [
    "Есть много пропущенных  значений в столбце `churn_date`, однако в описании к данным сказано, что это текущие тарифы. Данные в порядке. "
   ]
  },
  {
   "cell_type": "markdown",
   "metadata": {},
   "source": [
    "### Объединение \n"
   ]
  },
  {
   "cell_type": "markdown",
   "metadata": {},
   "source": [
    "Для начала создадим таблицу с использованием сервисов по месяцам для каждого пользователя."
   ]
  },
  {
   "cell_type": "code",
   "execution_count": 7,
   "metadata": {},
   "outputs": [
    {
     "data": {
      "text/html": [
       "<div>\n",
       "<style scoped>\n",
       "    .dataframe tbody tr th:only-of-type {\n",
       "        vertical-align: middle;\n",
       "    }\n",
       "\n",
       "    .dataframe tbody tr th {\n",
       "        vertical-align: top;\n",
       "    }\n",
       "\n",
       "    .dataframe thead th {\n",
       "        text-align: right;\n",
       "    }\n",
       "</style>\n",
       "<table border=\"1\" class=\"dataframe\">\n",
       "  <thead>\n",
       "    <tr style=\"text-align: right;\">\n",
       "      <th></th>\n",
       "      <th>user_id</th>\n",
       "      <th>month</th>\n",
       "      <th>duration</th>\n",
       "      <th>mb_used</th>\n",
       "      <th>messages</th>\n",
       "    </tr>\n",
       "  </thead>\n",
       "  <tbody>\n",
       "    <tr>\n",
       "      <td>1729</td>\n",
       "      <td>1277</td>\n",
       "      <td>6</td>\n",
       "      <td>231.0</td>\n",
       "      <td>15018.0</td>\n",
       "      <td>141.0</td>\n",
       "    </tr>\n",
       "    <tr>\n",
       "      <td>101</td>\n",
       "      <td>1014</td>\n",
       "      <td>6</td>\n",
       "      <td>180.0</td>\n",
       "      <td>25071.0</td>\n",
       "      <td>48.0</td>\n",
       "    </tr>\n",
       "    <tr>\n",
       "      <td>1854</td>\n",
       "      <td>1296</td>\n",
       "      <td>6</td>\n",
       "      <td>253.0</td>\n",
       "      <td>10539.0</td>\n",
       "      <td>32.0</td>\n",
       "    </tr>\n",
       "    <tr>\n",
       "      <td>2560</td>\n",
       "      <td>1403</td>\n",
       "      <td>8</td>\n",
       "      <td>125.0</td>\n",
       "      <td>28924.0</td>\n",
       "      <td>48.0</td>\n",
       "    </tr>\n",
       "    <tr>\n",
       "      <td>176</td>\n",
       "      <td>1027</td>\n",
       "      <td>6</td>\n",
       "      <td>441.0</td>\n",
       "      <td>14696.0</td>\n",
       "      <td>14.0</td>\n",
       "    </tr>\n",
       "  </tbody>\n",
       "</table>\n",
       "</div>"
      ],
      "text/plain": [
       "      user_id  month  duration  mb_used  messages\n",
       "1729     1277      6     231.0  15018.0     141.0\n",
       "101      1014      6     180.0  25071.0      48.0\n",
       "1854     1296      6     253.0  10539.0      32.0\n",
       "2560     1403      8     125.0  28924.0      48.0\n",
       "176      1027      6     441.0  14696.0      14.0"
      ]
     },
     "execution_count": 7,
     "metadata": {},
     "output_type": "execute_result"
    }
   ],
   "source": [
    "df = df_calls.merge(df_internet, on = ['user_id', 'month'], how='outer')\n",
    "df = df.merge(df_messages, on = ['user_id', 'month'], how='outer')\n",
    "df.sample(5)"
   ]
  },
  {
   "cell_type": "markdown",
   "metadata": {},
   "source": [
    "Далее, присоединим к таблице информацию о пользователях по `user_id`, и тарифах по `tariffs`"
   ]
  },
  {
   "cell_type": "code",
   "execution_count": 8,
   "metadata": {},
   "outputs": [
    {
     "data": {
      "text/html": [
       "<div>\n",
       "<style scoped>\n",
       "    .dataframe tbody tr th:only-of-type {\n",
       "        vertical-align: middle;\n",
       "    }\n",
       "\n",
       "    .dataframe tbody tr th {\n",
       "        vertical-align: top;\n",
       "    }\n",
       "\n",
       "    .dataframe thead th {\n",
       "        text-align: right;\n",
       "    }\n",
       "</style>\n",
       "<table border=\"1\" class=\"dataframe\">\n",
       "  <thead>\n",
       "    <tr style=\"text-align: right;\">\n",
       "      <th></th>\n",
       "      <th>user_id</th>\n",
       "      <th>month</th>\n",
       "      <th>duration</th>\n",
       "      <th>mb_used</th>\n",
       "      <th>messages</th>\n",
       "      <th>age</th>\n",
       "      <th>churn_date</th>\n",
       "      <th>city</th>\n",
       "      <th>first_name</th>\n",
       "      <th>last_name</th>\n",
       "      <th>reg_date</th>\n",
       "      <th>tariff</th>\n",
       "      <th>messages_included</th>\n",
       "      <th>mb_per_month_included</th>\n",
       "      <th>minutes_included</th>\n",
       "      <th>rub_monthly_fee</th>\n",
       "      <th>rub_per_gb</th>\n",
       "      <th>rub_per_message</th>\n",
       "      <th>rub_per_minute</th>\n",
       "    </tr>\n",
       "  </thead>\n",
       "  <tbody>\n",
       "    <tr>\n",
       "      <td>0</td>\n",
       "      <td>1000</td>\n",
       "      <td>5.0</td>\n",
       "      <td>159.0</td>\n",
       "      <td>2256.0</td>\n",
       "      <td>22.0</td>\n",
       "      <td>52</td>\n",
       "      <td>NaN</td>\n",
       "      <td>Краснодар</td>\n",
       "      <td>Рафаил</td>\n",
       "      <td>Верещагин</td>\n",
       "      <td>2018-05-25</td>\n",
       "      <td>ultra</td>\n",
       "      <td>1000</td>\n",
       "      <td>30720</td>\n",
       "      <td>3000</td>\n",
       "      <td>1950</td>\n",
       "      <td>150</td>\n",
       "      <td>1</td>\n",
       "      <td>1</td>\n",
       "    </tr>\n",
       "    <tr>\n",
       "      <td>1</td>\n",
       "      <td>1000</td>\n",
       "      <td>6.0</td>\n",
       "      <td>172.0</td>\n",
       "      <td>23257.0</td>\n",
       "      <td>60.0</td>\n",
       "      <td>52</td>\n",
       "      <td>NaN</td>\n",
       "      <td>Краснодар</td>\n",
       "      <td>Рафаил</td>\n",
       "      <td>Верещагин</td>\n",
       "      <td>2018-05-25</td>\n",
       "      <td>ultra</td>\n",
       "      <td>1000</td>\n",
       "      <td>30720</td>\n",
       "      <td>3000</td>\n",
       "      <td>1950</td>\n",
       "      <td>150</td>\n",
       "      <td>1</td>\n",
       "      <td>1</td>\n",
       "    </tr>\n",
       "    <tr>\n",
       "      <td>2</td>\n",
       "      <td>1000</td>\n",
       "      <td>7.0</td>\n",
       "      <td>340.0</td>\n",
       "      <td>14016.0</td>\n",
       "      <td>75.0</td>\n",
       "      <td>52</td>\n",
       "      <td>NaN</td>\n",
       "      <td>Краснодар</td>\n",
       "      <td>Рафаил</td>\n",
       "      <td>Верещагин</td>\n",
       "      <td>2018-05-25</td>\n",
       "      <td>ultra</td>\n",
       "      <td>1000</td>\n",
       "      <td>30720</td>\n",
       "      <td>3000</td>\n",
       "      <td>1950</td>\n",
       "      <td>150</td>\n",
       "      <td>1</td>\n",
       "      <td>1</td>\n",
       "    </tr>\n",
       "    <tr>\n",
       "      <td>3</td>\n",
       "      <td>1000</td>\n",
       "      <td>8.0</td>\n",
       "      <td>408.0</td>\n",
       "      <td>14070.0</td>\n",
       "      <td>81.0</td>\n",
       "      <td>52</td>\n",
       "      <td>NaN</td>\n",
       "      <td>Краснодар</td>\n",
       "      <td>Рафаил</td>\n",
       "      <td>Верещагин</td>\n",
       "      <td>2018-05-25</td>\n",
       "      <td>ultra</td>\n",
       "      <td>1000</td>\n",
       "      <td>30720</td>\n",
       "      <td>3000</td>\n",
       "      <td>1950</td>\n",
       "      <td>150</td>\n",
       "      <td>1</td>\n",
       "      <td>1</td>\n",
       "    </tr>\n",
       "    <tr>\n",
       "      <td>4</td>\n",
       "      <td>1000</td>\n",
       "      <td>9.0</td>\n",
       "      <td>466.0</td>\n",
       "      <td>14581.0</td>\n",
       "      <td>57.0</td>\n",
       "      <td>52</td>\n",
       "      <td>NaN</td>\n",
       "      <td>Краснодар</td>\n",
       "      <td>Рафаил</td>\n",
       "      <td>Верещагин</td>\n",
       "      <td>2018-05-25</td>\n",
       "      <td>ultra</td>\n",
       "      <td>1000</td>\n",
       "      <td>30720</td>\n",
       "      <td>3000</td>\n",
       "      <td>1950</td>\n",
       "      <td>150</td>\n",
       "      <td>1</td>\n",
       "      <td>1</td>\n",
       "    </tr>\n",
       "  </tbody>\n",
       "</table>\n",
       "</div>"
      ],
      "text/plain": [
       "   user_id  month  duration  mb_used  messages  age churn_date       city  \\\n",
       "0     1000    5.0     159.0   2256.0      22.0   52        NaN  Краснодар   \n",
       "1     1000    6.0     172.0  23257.0      60.0   52        NaN  Краснодар   \n",
       "2     1000    7.0     340.0  14016.0      75.0   52        NaN  Краснодар   \n",
       "3     1000    8.0     408.0  14070.0      81.0   52        NaN  Краснодар   \n",
       "4     1000    9.0     466.0  14581.0      57.0   52        NaN  Краснодар   \n",
       "\n",
       "  first_name  last_name    reg_date tariff  messages_included  \\\n",
       "0     Рафаил  Верещагин  2018-05-25  ultra               1000   \n",
       "1     Рафаил  Верещагин  2018-05-25  ultra               1000   \n",
       "2     Рафаил  Верещагин  2018-05-25  ultra               1000   \n",
       "3     Рафаил  Верещагин  2018-05-25  ultra               1000   \n",
       "4     Рафаил  Верещагин  2018-05-25  ultra               1000   \n",
       "\n",
       "   mb_per_month_included  minutes_included  rub_monthly_fee  rub_per_gb  \\\n",
       "0                  30720              3000             1950         150   \n",
       "1                  30720              3000             1950         150   \n",
       "2                  30720              3000             1950         150   \n",
       "3                  30720              3000             1950         150   \n",
       "4                  30720              3000             1950         150   \n",
       "\n",
       "   rub_per_message  rub_per_minute  \n",
       "0                1               1  \n",
       "1                1               1  \n",
       "2                1               1  \n",
       "3                1               1  \n",
       "4                1               1  "
      ]
     },
     "execution_count": 8,
     "metadata": {},
     "output_type": "execute_result"
    }
   ],
   "source": [
    "df = df.merge(df_users, on = 'user_id', how='outer')\n",
    "df = df.merge(df_tariffs, on = 'tariff', how='left')\n",
    "df.head(5)"
   ]
  },
  {
   "cell_type": "markdown",
   "metadata": {},
   "source": [
    "Изучим информацию о полученных данных"
   ]
  },
  {
   "cell_type": "code",
   "execution_count": 9,
   "metadata": {},
   "outputs": [
    {
     "name": "stdout",
     "output_type": "stream",
     "text": [
      "<class 'pandas.core.frame.DataFrame'>\n",
      "Int64Index: 3216 entries, 0 to 3215\n",
      "Data columns (total 19 columns):\n",
      "user_id                  3216 non-null int64\n",
      "month                    3214 non-null float64\n",
      "duration                 3174 non-null float64\n",
      "mb_used                  3203 non-null float64\n",
      "messages                 2717 non-null float64\n",
      "age                      3216 non-null int64\n",
      "churn_date               189 non-null object\n",
      "city                     3216 non-null object\n",
      "first_name               3216 non-null object\n",
      "last_name                3216 non-null object\n",
      "reg_date                 3216 non-null object\n",
      "tariff                   3216 non-null object\n",
      "messages_included        3216 non-null int64\n",
      "mb_per_month_included    3216 non-null int64\n",
      "minutes_included         3216 non-null int64\n",
      "rub_monthly_fee          3216 non-null int64\n",
      "rub_per_gb               3216 non-null int64\n",
      "rub_per_message          3216 non-null int64\n",
      "rub_per_minute           3216 non-null int64\n",
      "dtypes: float64(4), int64(9), object(6)\n",
      "memory usage: 502.5+ KB\n"
     ]
    }
   ],
   "source": [
    "df.info()"
   ]
  },
  {
   "cell_type": "markdown",
   "metadata": {},
   "source": [
    "## Вывод"
   ]
  },
  {
   "cell_type": "markdown",
   "metadata": {},
   "source": [
    "Мы объединили таблицы, категоризировав количество использованных услуг по месяцам. В данных наблюдаются некоторые пропуски. Они возникли из за того, что мы объединяли таблицы методом `outer`, чтобы не потерять важных для исследования данных. Так же можно заметить, что некоторые столбцы имеют неверный тип. `churn_date` имеет тип `object`, а должен иметь `datetime`. Та же ситуация с `reg_date`."
   ]
  },
  {
   "cell_type": "markdown",
   "metadata": {},
   "source": [
    "## Шаг 2. Подготовка данных"
   ]
  },
  {
   "cell_type": "markdown",
   "metadata": {},
   "source": [
    "### Изменение типов данных"
   ]
  },
  {
   "cell_type": "markdown",
   "metadata": {},
   "source": [
    "Изменим тип данных с `object` на `datetime` в столбцах `churn_date` и `reg_date`"
   ]
  },
  {
   "cell_type": "code",
   "execution_count": 10,
   "metadata": {},
   "outputs": [
    {
     "name": "stdout",
     "output_type": "stream",
     "text": [
      "datetime64[ns]\n",
      "datetime64[ns]\n"
     ]
    }
   ],
   "source": [
    "df['churn_date'] = pd.to_datetime(df['churn_date'])\n",
    "df['reg_date'] = pd.to_datetime(df['reg_date'])\n",
    "\n",
    "print(df['churn_date'].dtype)\n",
    "print(df['reg_date'].dtype)"
   ]
  },
  {
   "cell_type": "markdown",
   "metadata": {},
   "source": [
    "### Вывод"
   ]
  },
  {
   "cell_type": "markdown",
   "metadata": {},
   "source": [
    "Изменили типы данных на `datetime` для дальнейшей работы. Переводить целые значений в тип `int` из `float` не будем, так как особого смысла это не имеет."
   ]
  },
  {
   "cell_type": "markdown",
   "metadata": {},
   "source": [
    "### Обработка пропусков"
   ]
  },
  {
   "cell_type": "code",
   "execution_count": 11,
   "metadata": {},
   "outputs": [
    {
     "data": {
      "text/plain": [
       "user_id                  0.000000\n",
       "month                    0.000622\n",
       "duration                 0.013060\n",
       "mb_used                  0.004042\n",
       "messages                 0.155162\n",
       "age                      0.000000\n",
       "churn_date               0.941231\n",
       "city                     0.000000\n",
       "first_name               0.000000\n",
       "last_name                0.000000\n",
       "reg_date                 0.000000\n",
       "tariff                   0.000000\n",
       "messages_included        0.000000\n",
       "mb_per_month_included    0.000000\n",
       "minutes_included         0.000000\n",
       "rub_monthly_fee          0.000000\n",
       "rub_per_gb               0.000000\n",
       "rub_per_message          0.000000\n",
       "rub_per_minute           0.000000\n",
       "dtype: float64"
      ]
     },
     "execution_count": 11,
     "metadata": {},
     "output_type": "execute_result"
    }
   ],
   "source": [
    "df.isnull().mean()"
   ]
  },
  {
   "cell_type": "markdown",
   "metadata": {},
   "source": [
    "#### `month`"
   ]
  },
  {
   "cell_type": "markdown",
   "metadata": {},
   "source": [
    "Данный столбец имеет только 2 пропуска. Выведем срез по пропущенным значений.\n"
   ]
  },
  {
   "cell_type": "code",
   "execution_count": 12,
   "metadata": {},
   "outputs": [
    {
     "data": {
      "text/html": [
       "<div>\n",
       "<style scoped>\n",
       "    .dataframe tbody tr th:only-of-type {\n",
       "        vertical-align: middle;\n",
       "    }\n",
       "\n",
       "    .dataframe tbody tr th {\n",
       "        vertical-align: top;\n",
       "    }\n",
       "\n",
       "    .dataframe thead th {\n",
       "        text-align: right;\n",
       "    }\n",
       "</style>\n",
       "<table border=\"1\" class=\"dataframe\">\n",
       "  <thead>\n",
       "    <tr style=\"text-align: right;\">\n",
       "      <th></th>\n",
       "      <th>user_id</th>\n",
       "      <th>month</th>\n",
       "      <th>duration</th>\n",
       "      <th>mb_used</th>\n",
       "      <th>messages</th>\n",
       "      <th>age</th>\n",
       "      <th>churn_date</th>\n",
       "      <th>city</th>\n",
       "      <th>first_name</th>\n",
       "      <th>last_name</th>\n",
       "      <th>reg_date</th>\n",
       "      <th>tariff</th>\n",
       "      <th>messages_included</th>\n",
       "      <th>mb_per_month_included</th>\n",
       "      <th>minutes_included</th>\n",
       "      <th>rub_monthly_fee</th>\n",
       "      <th>rub_per_gb</th>\n",
       "      <th>rub_per_message</th>\n",
       "      <th>rub_per_minute</th>\n",
       "    </tr>\n",
       "  </thead>\n",
       "  <tbody>\n",
       "    <tr>\n",
       "      <td>3214</td>\n",
       "      <td>1128</td>\n",
       "      <td>NaN</td>\n",
       "      <td>NaN</td>\n",
       "      <td>NaN</td>\n",
       "      <td>NaN</td>\n",
       "      <td>51</td>\n",
       "      <td>2018-12-23</td>\n",
       "      <td>Волжский</td>\n",
       "      <td>Ксения</td>\n",
       "      <td>Агаева</td>\n",
       "      <td>2018-12-15</td>\n",
       "      <td>ultra</td>\n",
       "      <td>1000</td>\n",
       "      <td>30720</td>\n",
       "      <td>3000</td>\n",
       "      <td>1950</td>\n",
       "      <td>150</td>\n",
       "      <td>1</td>\n",
       "      <td>1</td>\n",
       "    </tr>\n",
       "    <tr>\n",
       "      <td>3215</td>\n",
       "      <td>1371</td>\n",
       "      <td>NaN</td>\n",
       "      <td>NaN</td>\n",
       "      <td>NaN</td>\n",
       "      <td>NaN</td>\n",
       "      <td>50</td>\n",
       "      <td>2018-12-30</td>\n",
       "      <td>Омск</td>\n",
       "      <td>Ириней</td>\n",
       "      <td>Трофимов</td>\n",
       "      <td>2018-12-25</td>\n",
       "      <td>smart</td>\n",
       "      <td>50</td>\n",
       "      <td>15360</td>\n",
       "      <td>500</td>\n",
       "      <td>550</td>\n",
       "      <td>200</td>\n",
       "      <td>3</td>\n",
       "      <td>3</td>\n",
       "    </tr>\n",
       "  </tbody>\n",
       "</table>\n",
       "</div>"
      ],
      "text/plain": [
       "      user_id  month  duration  mb_used  messages  age churn_date      city  \\\n",
       "3214     1128    NaN       NaN      NaN       NaN   51 2018-12-23  Волжский   \n",
       "3215     1371    NaN       NaN      NaN       NaN   50 2018-12-30      Омск   \n",
       "\n",
       "     first_name last_name   reg_date tariff  messages_included  \\\n",
       "3214     Ксения    Агаева 2018-12-15  ultra               1000   \n",
       "3215     Ириней  Трофимов 2018-12-25  smart                 50   \n",
       "\n",
       "      mb_per_month_included  minutes_included  rub_monthly_fee  rub_per_gb  \\\n",
       "3214                  30720              3000             1950         150   \n",
       "3215                  15360               500              550         200   \n",
       "\n",
       "      rub_per_message  rub_per_minute  \n",
       "3214                1               1  \n",
       "3215                3               3  "
      ]
     },
     "execution_count": 12,
     "metadata": {},
     "output_type": "execute_result"
    }
   ],
   "source": [
    "df.query('month == \"NaN\"')"
   ]
  },
  {
   "cell_type": "markdown",
   "metadata": {},
   "source": [
    "На срезе видно, что эти 2 пользователя использовали тарифы \"Мегалайна\" в течении нескольких дней(отказались от использования), не использовав при это никаких услуг.\n",
    "\n",
    "Удалим эти строки"
   ]
  },
  {
   "cell_type": "code",
   "execution_count": 13,
   "metadata": {},
   "outputs": [
    {
     "name": "stdout",
     "output_type": "stream",
     "text": [
      "Количество пропусков до: 2\n",
      "Количество пропусков после: 0\n"
     ]
    }
   ],
   "source": [
    "print('Количество пропусков до:', df['month'].isna().sum())\n",
    "df.dropna(subset=['month'], inplace=True)\n",
    "df = df.reset_index(drop=True)\n",
    "print('Количество пропусков после:', df['month'].isna().sum())"
   ]
  },
  {
   "cell_type": "markdown",
   "metadata": {},
   "source": [
    "#### Вывод"
   ]
  },
  {
   "cell_type": "markdown",
   "metadata": {},
   "source": [
    "Пропусков всего 2, они принадлежат клиентам, которые не пользовались услугами, поэтому можем просто их удалить."
   ]
  },
  {
   "cell_type": "markdown",
   "metadata": {},
   "source": [
    "#### `duration`, `mb_used`, `messages`"
   ]
  },
  {
   "cell_type": "markdown",
   "metadata": {},
   "source": [
    "Заполним пропуски нулями\n"
   ]
  },
  {
   "cell_type": "code",
   "execution_count": 14,
   "metadata": {},
   "outputs": [],
   "source": [
    "df['duration'] = df['duration'].fillna(0)\n",
    "df['mb_used'] = df['mb_used'].fillna(0)\n",
    "df['messages'] = df['messages'].fillna(0)"
   ]
  },
  {
   "cell_type": "markdown",
   "metadata": {},
   "source": [
    "#### Вывод"
   ]
  },
  {
   "cell_type": "markdown",
   "metadata": {},
   "source": [
    "Пропущенные значения в данных столбцах возникли из за того, что мы объединяли таблицы методом `outer`. Пропуски означают, что клиент не использовал сервис в течении месяца, он не использовал ни одной минуты или ни одного мегабайта мобильного интернета, или не отправил ни одного сообщения, поэтому смело заполняем нулями."
   ]
  },
  {
   "cell_type": "markdown",
   "metadata": {},
   "source": [
    "#### `churn_date`"
   ]
  },
  {
   "cell_type": "markdown",
   "metadata": {},
   "source": [
    "В инструкции к данным сказано: \"если значение пропущено, то тариф ещё действовал на момент выгрузки данных\", поэтому оставим пропуски как есть."
   ]
  },
  {
   "cell_type": "code",
   "execution_count": 15,
   "metadata": {},
   "outputs": [
    {
     "data": {
      "text/plain": [
       "user_id                     0\n",
       "month                       0\n",
       "duration                    0\n",
       "mb_used                     0\n",
       "messages                    0\n",
       "age                         0\n",
       "churn_date               3027\n",
       "city                        0\n",
       "first_name                  0\n",
       "last_name                   0\n",
       "reg_date                    0\n",
       "tariff                      0\n",
       "messages_included           0\n",
       "mb_per_month_included       0\n",
       "minutes_included            0\n",
       "rub_monthly_fee             0\n",
       "rub_per_gb                  0\n",
       "rub_per_message             0\n",
       "rub_per_minute              0\n",
       "dtype: int64"
      ]
     },
     "execution_count": 15,
     "metadata": {},
     "output_type": "execute_result"
    }
   ],
   "source": [
    "df.isnull().sum()"
   ]
  },
  {
   "cell_type": "markdown",
   "metadata": {},
   "source": [
    "### Вывод"
   ]
  },
  {
   "cell_type": "markdown",
   "metadata": {},
   "source": [
    "Данные практически не имеют пропусков. Все пропуски были заполнены точными значениями(нулями), так как была понятна их причина. Пропуски в `churn_date` оставили без изменений."
   ]
  },
  {
   "cell_type": "markdown",
   "metadata": {},
   "source": [
    "### Поиск и исправление ошибок"
   ]
  },
  {
   "cell_type": "markdown",
   "metadata": {},
   "source": [
    "Создадим функцию, которую будем использовать для удаления выбросов. Функция расчитывает границы усов диаграммы размаха, и возвращает датафрейм без значений, превышаюхих границы. \n",
    "\n",
    "Заметим, что за нижнюю границу мы искуственно выставили ноль, так как в некоторых распределниях нулевые значения могут выпадать из границ диаграммы размаха. Мы не можем упускать эти значения, это исказит результаты. Клиент может не использовать услугу, к примеру не отправлять sms, это является причиной нулевых значений, значит значения не аномальны, и их удалять нельзя."
   ]
  },
  {
   "cell_type": "code",
   "execution_count": 16,
   "metadata": {},
   "outputs": [],
   "source": [
    "def df_filter(data, column):\n",
    "    \n",
    "    quantiles = data[column].quantile([0.25, 0.75])\n",
    "    iqr = quantiles.iloc[1] - quantiles.iloc[0]\n",
    "    \n",
    "    max_value = quantiles.iloc[1] + 1.5 * iqr\n",
    "    min_value = 0\n",
    "    \n",
    "    print('Количество выбросов:', data[(data[column] > max_value) | (data[column] < min_value)][column].count())\n",
    "    \n",
    "    return data.loc[(data[column] >= min_value) & (data[column] <= max_value)].copy().reset_index(drop=True)"
   ]
  },
  {
   "cell_type": "markdown",
   "metadata": {},
   "source": [
    "Будет логичным учитывать тот факт, что пользователи разных тарифов используют разное количество минут смс и интернета, поэтому будем рассматривать каждый тариф отдельно. Если их смешать, мы рискуем усреднить значения и исказить реальную картину.\n",
    "\n",
    "Создадим копии датафрейма по тарифам."
   ]
  },
  {
   "cell_type": "code",
   "execution_count": 17,
   "metadata": {},
   "outputs": [],
   "source": [
    "df_smart = df.query('tariff==\"smart\"').copy()\n",
    "df_ultra = df.query('tariff==\"ultra\"').copy()\n",
    "df = df_smart.append(df_ultra)"
   ]
  },
  {
   "cell_type": "markdown",
   "metadata": {},
   "source": [
    "Так же создадим функции для ускорения процесса построения графиков на данном этапе."
   ]
  },
  {
   "cell_type": "code",
   "execution_count": 18,
   "metadata": {},
   "outputs": [],
   "source": [
    "def analys_plots(column, x_max, step, bins):\n",
    "    plt.figure(figsize=(15,8))\n",
    "\n",
    "    plt.subplot(2, 1, 1)\n",
    "    sns.distplot(df[df['tariff'] == 'smart'][column], kde=False, color=pal[0], bins=bins)\n",
    "    sns.distplot(df[df['tariff'] == 'ultra'][column], kde=False, color=pal[3], bins=bins)\n",
    "    plt.axvline(df[df['tariff'] == 'smart'][column].mean(), color=pal[0])\n",
    "    plt.axvline(df[df['tariff'] == 'ultra'][column].mean(), color=pal[3])\n",
    "    plt.xticks(range(0, x_max, step))\n",
    "    plt.legend(['Smart', 'Ultra'])\n",
    "\n",
    "    plt.subplot(2, 1, 2)\n",
    "    sns.boxplot(data = df, x=column, y='tariff', showmeans=True)\n",
    "    plt.xticks(range(0, x_max, step))\n",
    "    plt.legend(['Smart', 'Ultra'])\n",
    "    \n",
    "    plt.show()"
   ]
  },
  {
   "cell_type": "markdown",
   "metadata": {},
   "source": [
    "#### `duration`"
   ]
  },
  {
   "cell_type": "code",
   "execution_count": 19,
   "metadata": {},
   "outputs": [
    {
     "data": {
      "image/png": "[encoded data removed]",
      "text/plain": [
       "<Figure size 1080x576 with 2 Axes>"
      ]
     },
     "metadata": {},
     "output_type": "display_data"
    }
   ],
   "source": [
    "analys_plots('duration', 1600, 100, 25)"
   ]
  },
  {
   "cell_type": "markdown",
   "metadata": {},
   "source": [
    "На построенных графиках видно, что распределения каждого тарифа отличаются друг от друга. Пользователи `ultra` используют больше минут. Наблюдается совсем незначительное количество выбросов для кажого тарифа. \n",
    "\n",
    "Отфильтруем выбросы с помощью нашей функции."
   ]
  },
  {
   "cell_type": "code",
   "execution_count": 20,
   "metadata": {},
   "outputs": [
    {
     "name": "stdout",
     "output_type": "stream",
     "text": [
      "Количество выбросов: 10\n",
      "Количество выбросов: 2\n"
     ]
    }
   ],
   "source": [
    "df_smart = df_filter(df_smart, 'duration')\n",
    "df_ultra = df_filter(df_ultra, 'duration')"
   ]
  },
  {
   "cell_type": "markdown",
   "metadata": {},
   "source": [
    "#### Вывод"
   ]
  },
  {
   "cell_type": "markdown",
   "metadata": {},
   "source": [
    "В столбце наблюдались немногочисленные выбросы, которые мы удалили. Фильтрацию и определение выбросов выполняли для каждого тарифа по отдельности. В качестве границы определения выбросов использовали границы диаграммы размаха. Стоит отметить, что в распределениях присутствует некоторая часть нулевых значений. Это происходит из за того, что мы заполняли значения нулями. Нули в столбце с использованными минутами являются нормой, так как клиент может не использовать минуты, никому не звонить.  "
   ]
  },
  {
   "cell_type": "markdown",
   "metadata": {},
   "source": [
    "#### `mb_used`"
   ]
  },
  {
   "cell_type": "code",
   "execution_count": 21,
   "metadata": {},
   "outputs": [
    {
     "data": {
      "image/png": "[encoded data removed]",
      "text/plain": [
       "<Figure size 1080x576 with 2 Axes>"
      ]
     },
     "metadata": {},
     "output_type": "display_data"
    }
   ],
   "source": [
    "analys_plots('mb_used', 50000, 5000, 30)"
   ]
  },
  {
   "cell_type": "markdown",
   "metadata": {},
   "source": [
    "Ситуация с мобильным интернетом схожа с ситуацией с минутами разговоров. Распределение между графиками отличается, пользователи `ultra` использую больше интернета. На графиках видны немногочисленные выбросы, которые мы удалим.\n",
    "\n",
    "Заметим, что `boxplot` тарифа `smart` выдает значения меньше чем примерно 2000 mb как выбросы. Этот момент мы предусмотрели при создании функции `df_filter`.\n",
    "\n",
    "Отфильтруем выбросы с помощью нашей функции"
   ]
  },
  {
   "cell_type": "code",
   "execution_count": 22,
   "metadata": {},
   "outputs": [
    {
     "name": "stdout",
     "output_type": "stream",
     "text": [
      "Количество выбросов: 1\n",
      "Количество выбросов: 12\n"
     ]
    }
   ],
   "source": [
    "df_ultra = df_filter(df_ultra, 'mb_used')\n",
    "df_smart = df_filter(df_smart, 'mb_used')"
   ]
  },
  {
   "cell_type": "markdown",
   "metadata": {},
   "source": [
    "#### Вывод"
   ]
  },
  {
   "cell_type": "markdown",
   "metadata": {},
   "source": [
    "Мы удалили немногочисленные выбросы из данных. Выбросы определяли для каждого тарифа по отдельности. Значения < 2000mb в тарифе `smart` были определены графиком как выбросы, однако эти значения мы оставили, так как мы знаем, что они не аномальны. Клиент мог не использовать мобильный интернет в течении месяца, к примеру он был за границей, это и послужило причиной нулевых значений."
   ]
  },
  {
   "cell_type": "markdown",
   "metadata": {},
   "source": [
    "#### `messages`"
   ]
  },
  {
   "cell_type": "code",
   "execution_count": 23,
   "metadata": {},
   "outputs": [
    {
     "data": {
      "image/png": "[encoded data removed]",
      "text/plain": [
       "<Figure size 1080x576 with 2 Axes>"
      ]
     },
     "metadata": {},
     "output_type": "display_data"
    }
   ],
   "source": [
    "analys_plots('messages', 250, 10, 20)"
   ]
  },
  {
   "cell_type": "markdown",
   "metadata": {},
   "source": [
    "В случае с этим столбцом, распределения притянуты влево. Во первых, 500 пропущенных значений в этом столбце мы заполнили нулями на предыдущих шагах. Во вторых, с появлением социальных сетей, которые предоставляют возможность удобного и бесплатного общения, sms потеряло свою популярность. Скорее всего эти факторы послужили причиной такому распределению в столбце.\n",
    "\n",
    "Отметим наличие выбросов, отфильтруем их."
   ]
  },
  {
   "cell_type": "code",
   "execution_count": 24,
   "metadata": {},
   "outputs": [
    {
     "name": "stdout",
     "output_type": "stream",
     "text": [
      "Количество выбросов: 14\n",
      "Количество выбросов: 9\n"
     ]
    }
   ],
   "source": [
    "df_smart = df_filter(df_smart, 'messages')\n",
    "df_ultra = df_filter(df_ultra, 'messages')"
   ]
  },
  {
   "cell_type": "markdown",
   "metadata": {},
   "source": [
    "#### Вывод"
   ]
  },
  {
   "cell_type": "markdown",
   "metadata": {},
   "source": [
    "Мы обнаружили немногочисленные выбросы, удалили их. Поиск значений, как и в прошлые разы, совершали для кажого тарифа по отдельности. Столбец выделяется на фоне остальных оригинальностью своего распределения, которое мы объяснили заполнением значений и падающей популярностью sms."
   ]
  },
  {
   "cell_type": "markdown",
   "metadata": {},
   "source": [
    "### Вывод"
   ]
  },
  {
   "cell_type": "markdown",
   "metadata": {},
   "source": [
    "Объединим таблицу"
   ]
  },
  {
   "cell_type": "code",
   "execution_count": 25,
   "metadata": {},
   "outputs": [],
   "source": [
    "df = df_smart.append(df_ultra)"
   ]
  },
  {
   "cell_type": "markdown",
   "metadata": {},
   "source": [
    "В нужных для дальнейшей работы столбцах нашли выбросы. Удалили их, приняв за границу усы диаграммы размаха. Для того, чтобы не исказить результаты, находили границы выбросов для каждого тарифа по отдельности(клиенты тарифа `ultra` используют заметно больше услуг). Стоит отметить, что наличие нулевых значений в столбцах с использованием услуг нормально. Если, к примеру, нулевое значение присутствует в `duration`, значит за месяц клиент не потратил ни одной минуты, никому не звонил и не принимал вызовы. Именно поэтому мы не удаляли выбросы слева у столбца `mb_used`, так как эти значения не аномальны и нужны нам для дальнейших выводов."
   ]
  },
  {
   "cell_type": "markdown",
   "metadata": {},
   "source": [
    "### Подсчет значений"
   ]
  },
  {
   "cell_type": "markdown",
   "metadata": {},
   "source": [
    "Подсчитаем помесячную выручку с каждого пользователя."
   ]
  },
  {
   "cell_type": "code",
   "execution_count": 26,
   "metadata": {},
   "outputs": [
    {
     "name": "stdout",
     "output_type": "stream",
     "text": [
      "<class 'pandas.core.frame.DataFrame'>\n",
      "Int64Index: 3166 entries, 0 to 972\n",
      "Data columns (total 20 columns):\n",
      "user_id                  3166 non-null int64\n",
      "month                    3166 non-null float64\n",
      "duration                 3166 non-null float64\n",
      "mb_used                  3166 non-null float64\n",
      "messages                 3166 non-null float64\n",
      "age                      3166 non-null int64\n",
      "churn_date               187 non-null datetime64[ns]\n",
      "city                     3166 non-null object\n",
      "first_name               3166 non-null object\n",
      "last_name                3166 non-null object\n",
      "reg_date                 3166 non-null datetime64[ns]\n",
      "tariff                   3166 non-null object\n",
      "messages_included        3166 non-null int64\n",
      "mb_per_month_included    3166 non-null int64\n",
      "minutes_included         3166 non-null int64\n",
      "rub_monthly_fee          3166 non-null int64\n",
      "rub_per_gb               3166 non-null int64\n",
      "rub_per_message          3166 non-null int64\n",
      "rub_per_minute           3166 non-null int64\n",
      "profit                   3166 non-null float64\n",
      "dtypes: datetime64[ns](2), float64(5), int64(9), object(4)\n",
      "memory usage: 519.4+ KB\n"
     ]
    },
    {
     "data": {
      "text/html": [
       "<div>\n",
       "<style scoped>\n",
       "    .dataframe tbody tr th:only-of-type {\n",
       "        vertical-align: middle;\n",
       "    }\n",
       "\n",
       "    .dataframe tbody tr th {\n",
       "        vertical-align: top;\n",
       "    }\n",
       "\n",
       "    .dataframe thead th {\n",
       "        text-align: right;\n",
       "    }\n",
       "</style>\n",
       "<table border=\"1\" class=\"dataframe\">\n",
       "  <thead>\n",
       "    <tr style=\"text-align: right;\">\n",
       "      <th></th>\n",
       "      <th>user_id</th>\n",
       "      <th>month</th>\n",
       "      <th>duration</th>\n",
       "      <th>mb_used</th>\n",
       "      <th>messages</th>\n",
       "      <th>age</th>\n",
       "      <th>churn_date</th>\n",
       "      <th>city</th>\n",
       "      <th>first_name</th>\n",
       "      <th>last_name</th>\n",
       "      <th>reg_date</th>\n",
       "      <th>tariff</th>\n",
       "      <th>messages_included</th>\n",
       "      <th>mb_per_month_included</th>\n",
       "      <th>minutes_included</th>\n",
       "      <th>rub_monthly_fee</th>\n",
       "      <th>rub_per_gb</th>\n",
       "      <th>rub_per_message</th>\n",
       "      <th>rub_per_minute</th>\n",
       "      <th>profit</th>\n",
       "    </tr>\n",
       "  </thead>\n",
       "  <tbody>\n",
       "    <tr>\n",
       "      <td>0</td>\n",
       "      <td>1001</td>\n",
       "      <td>11.0</td>\n",
       "      <td>430.0</td>\n",
       "      <td>18452.0</td>\n",
       "      <td>0.0</td>\n",
       "      <td>41</td>\n",
       "      <td>NaT</td>\n",
       "      <td>Москва</td>\n",
       "      <td>Иван</td>\n",
       "      <td>Ежов</td>\n",
       "      <td>2018-11-01</td>\n",
       "      <td>smart</td>\n",
       "      <td>50</td>\n",
       "      <td>15360</td>\n",
       "      <td>500</td>\n",
       "      <td>550</td>\n",
       "      <td>200</td>\n",
       "      <td>3</td>\n",
       "      <td>3</td>\n",
       "      <td>1350.0</td>\n",
       "    </tr>\n",
       "    <tr>\n",
       "      <td>1</td>\n",
       "      <td>1001</td>\n",
       "      <td>12.0</td>\n",
       "      <td>414.0</td>\n",
       "      <td>14053.0</td>\n",
       "      <td>0.0</td>\n",
       "      <td>41</td>\n",
       "      <td>NaT</td>\n",
       "      <td>Москва</td>\n",
       "      <td>Иван</td>\n",
       "      <td>Ежов</td>\n",
       "      <td>2018-11-01</td>\n",
       "      <td>smart</td>\n",
       "      <td>50</td>\n",
       "      <td>15360</td>\n",
       "      <td>500</td>\n",
       "      <td>550</td>\n",
       "      <td>200</td>\n",
       "      <td>3</td>\n",
       "      <td>3</td>\n",
       "      <td>550.0</td>\n",
       "    </tr>\n",
       "    <tr>\n",
       "      <td>2</td>\n",
       "      <td>1002</td>\n",
       "      <td>6.0</td>\n",
       "      <td>117.0</td>\n",
       "      <td>10871.0</td>\n",
       "      <td>4.0</td>\n",
       "      <td>59</td>\n",
       "      <td>NaT</td>\n",
       "      <td>Стерлитамак</td>\n",
       "      <td>Евгений</td>\n",
       "      <td>Абрамович</td>\n",
       "      <td>2018-06-17</td>\n",
       "      <td>smart</td>\n",
       "      <td>50</td>\n",
       "      <td>15360</td>\n",
       "      <td>500</td>\n",
       "      <td>550</td>\n",
       "      <td>200</td>\n",
       "      <td>3</td>\n",
       "      <td>3</td>\n",
       "      <td>550.0</td>\n",
       "    </tr>\n",
       "    <tr>\n",
       "      <td>3</td>\n",
       "      <td>1002</td>\n",
       "      <td>7.0</td>\n",
       "      <td>214.0</td>\n",
       "      <td>17601.0</td>\n",
       "      <td>11.0</td>\n",
       "      <td>59</td>\n",
       "      <td>NaT</td>\n",
       "      <td>Стерлитамак</td>\n",
       "      <td>Евгений</td>\n",
       "      <td>Абрамович</td>\n",
       "      <td>2018-06-17</td>\n",
       "      <td>smart</td>\n",
       "      <td>50</td>\n",
       "      <td>15360</td>\n",
       "      <td>500</td>\n",
       "      <td>550</td>\n",
       "      <td>200</td>\n",
       "      <td>3</td>\n",
       "      <td>3</td>\n",
       "      <td>1150.0</td>\n",
       "    </tr>\n",
       "    <tr>\n",
       "      <td>4</td>\n",
       "      <td>1002</td>\n",
       "      <td>8.0</td>\n",
       "      <td>289.0</td>\n",
       "      <td>20347.0</td>\n",
       "      <td>13.0</td>\n",
       "      <td>59</td>\n",
       "      <td>NaT</td>\n",
       "      <td>Стерлитамак</td>\n",
       "      <td>Евгений</td>\n",
       "      <td>Абрамович</td>\n",
       "      <td>2018-06-17</td>\n",
       "      <td>smart</td>\n",
       "      <td>50</td>\n",
       "      <td>15360</td>\n",
       "      <td>500</td>\n",
       "      <td>550</td>\n",
       "      <td>200</td>\n",
       "      <td>3</td>\n",
       "      <td>3</td>\n",
       "      <td>1550.0</td>\n",
       "    </tr>\n",
       "  </tbody>\n",
       "</table>\n",
       "</div>"
      ],
      "text/plain": [
       "   user_id  month  duration  mb_used  messages  age churn_date         city  \\\n",
       "0     1001   11.0     430.0  18452.0       0.0   41        NaT       Москва   \n",
       "1     1001   12.0     414.0  14053.0       0.0   41        NaT       Москва   \n",
       "2     1002    6.0     117.0  10871.0       4.0   59        NaT  Стерлитамак   \n",
       "3     1002    7.0     214.0  17601.0      11.0   59        NaT  Стерлитамак   \n",
       "4     1002    8.0     289.0  20347.0      13.0   59        NaT  Стерлитамак   \n",
       "\n",
       "  first_name  last_name   reg_date tariff  messages_included  \\\n",
       "0       Иван       Ежов 2018-11-01  smart                 50   \n",
       "1       Иван       Ежов 2018-11-01  smart                 50   \n",
       "2    Евгений  Абрамович 2018-06-17  smart                 50   \n",
       "3    Евгений  Абрамович 2018-06-17  smart                 50   \n",
       "4    Евгений  Абрамович 2018-06-17  smart                 50   \n",
       "\n",
       "   mb_per_month_included  minutes_included  rub_monthly_fee  rub_per_gb  \\\n",
       "0                  15360               500              550         200   \n",
       "1                  15360               500              550         200   \n",
       "2                  15360               500              550         200   \n",
       "3                  15360               500              550         200   \n",
       "4                  15360               500              550         200   \n",
       "\n",
       "   rub_per_message  rub_per_minute  profit  \n",
       "0                3               3  1350.0  \n",
       "1                3               3   550.0  \n",
       "2                3               3   550.0  \n",
       "3                3               3  1150.0  \n",
       "4                3               3  1550.0  "
      ]
     },
     "execution_count": 26,
     "metadata": {},
     "output_type": "execute_result"
    }
   ],
   "source": [
    "def calculator(row):\n",
    "    calls = row['duration']\n",
    "    internet = row['mb_used']\n",
    "    sms = row['messages']\n",
    "    tariff = row['tariff']\n",
    "        \n",
    "    minutes_limit = row['minutes_included']\n",
    "    calls_overlimit = max(calls - minutes_limit, 0) \n",
    "    calls_overpay = calls_overlimit * row['rub_per_minute']\n",
    "        \n",
    "    mb_limit = row['mb_per_month_included']\n",
    "    internet_overlimit = max(internet - mb_limit, 0)\n",
    "    internet_overlimit = internet_overlimit / 1000\n",
    "    internet_overlimit = np.ceil(internet_overlimit)\n",
    "    internet_overpay = internet_overlimit * row['rub_per_gb']\n",
    "        \n",
    "    sms_limit = row['messages_included']\n",
    "    sms_overlimit = max(sms - sms_limit, 0)\n",
    "    sms_overpay = sms_overlimit * row['rub_per_message']\n",
    "    \n",
    "    basic_cost = row['rub_monthly_fee']\n",
    "    \n",
    "    return calls_overpay + internet_overpay + sms_overpay + basic_cost\n",
    "\n",
    "df['profit'] = df.apply(calculator, axis=1)\n",
    "df.info()\n",
    "df.head(5)"
   ]
  },
  {
   "cell_type": "markdown",
   "metadata": {},
   "source": [
    "### Вывод"
   ]
  },
  {
   "cell_type": "markdown",
   "metadata": {},
   "source": [
    "Как сказано в описании, в \"Мегалайн\" минуты и гигабайты округляются вверх, поэтому еще в начале проекта использовали метод `np.ceil`. С помощью составленной нам функции и метода `apply` создали столбец помесячной выручки с кажого клиента. Столбец очень пригодится в дальнейшей работе."
   ]
  },
  {
   "cell_type": "markdown",
   "metadata": {},
   "source": [
    "## Шаг 3. Анализ данных"
   ]
  },
  {
   "cell_type": "markdown",
   "metadata": {},
   "source": [
    "Для начала создадим функции, чтобы автоматизировать процесс построения графиков."
   ]
  },
  {
   "cell_type": "markdown",
   "metadata": {},
   "source": [
    "Первая функция будет выводить QQ plot для каждого тарифа, чтобы мы могли описать распределение."
   ]
  },
  {
   "cell_type": "code",
   "execution_count": 27,
   "metadata": {},
   "outputs": [],
   "source": [
    "def distribution(column):\n",
    "    sm.qqplot(df[df['tariff'] == 'ultra'][column], alpha=0.5, line='s', color=pal[0]) \n",
    "    plt.show()\n",
    "\n",
    "    sm.qqplot(df[df['tariff'] == 'smart'][column], alpha=0.5, line='s', color=pal[1])  \n",
    "    plt.show()"
   ]
  },
  {
   "cell_type": "markdown",
   "metadata": {},
   "source": [
    "Следующая функция будет выводить сводную таблицу, которая будет содержать среднее, дисперсию и стандартное отклонение для каждого тарифа."
   ]
  },
  {
   "cell_type": "code",
   "execution_count": 28,
   "metadata": {},
   "outputs": [],
   "source": [
    "def stats(column):\n",
    "    a = df.pivot_table(index='tariff', values=column, aggfunc=(['count', 'mean', 'var', 'std']))\n",
    "    a.columns = ['Кол-во', 'Среднее', 'Дисперсия', 'Отклонение']\n",
    "    display(a)"
   ]
  },
  {
   "cell_type": "markdown",
   "metadata": {},
   "source": [
    "Так же будем использовать созданную ранее функцию `analys_plots`."
   ]
  },
  {
   "cell_type": "markdown",
   "metadata": {},
   "source": [
    "### Минуты разговора"
   ]
  },
  {
   "cell_type": "code",
   "execution_count": 29,
   "metadata": {},
   "outputs": [
    {
     "data": {
      "image/png": "[encoded data removed]",
      "text/plain": [
       "<Figure size 1080x576 with 2 Axes>"
      ]
     },
     "metadata": {},
     "output_type": "display_data"
    }
   ],
   "source": [
    "analys_plots('duration', 1500, 100, 25)"
   ]
  },
  {
   "cell_type": "code",
   "execution_count": 30,
   "metadata": {},
   "outputs": [
    {
     "data": {
      "image/png": "[encoded data removed]",
      "text/plain": [
       "<Figure size 432x288 with 1 Axes>"
      ]
     },
     "metadata": {},
     "output_type": "display_data"
    },
    {
     "data": {
      "image/png": "[encoded data removed]",
      "text/plain": [
       "<Figure size 432x288 with 1 Axes>"
      ]
     },
     "metadata": {},
     "output_type": "display_data"
    }
   ],
   "source": [
    "distribution('duration')"
   ]
  },
  {
   "cell_type": "code",
   "execution_count": 31,
   "metadata": {},
   "outputs": [
    {
     "data": {
      "text/html": [
       "<div>\n",
       "<style scoped>\n",
       "    .dataframe tbody tr th:only-of-type {\n",
       "        vertical-align: middle;\n",
       "    }\n",
       "\n",
       "    .dataframe tbody tr th {\n",
       "        vertical-align: top;\n",
       "    }\n",
       "\n",
       "    .dataframe thead th {\n",
       "        text-align: right;\n",
       "    }\n",
       "</style>\n",
       "<table border=\"1\" class=\"dataframe\">\n",
       "  <thead>\n",
       "    <tr style=\"text-align: right;\">\n",
       "      <th></th>\n",
       "      <th>Кол-во</th>\n",
       "      <th>Среднее</th>\n",
       "      <th>Дисперсия</th>\n",
       "      <th>Отклонение</th>\n",
       "    </tr>\n",
       "    <tr>\n",
       "      <th>tariff</th>\n",
       "      <th></th>\n",
       "      <th></th>\n",
       "      <th></th>\n",
       "      <th></th>\n",
       "    </tr>\n",
       "  </thead>\n",
       "  <tbody>\n",
       "    <tr>\n",
       "      <td>smart</td>\n",
       "      <td>2193</td>\n",
       "      <td>413.138167</td>\n",
       "      <td>34210.335372</td>\n",
       "      <td>184.960362</td>\n",
       "    </tr>\n",
       "    <tr>\n",
       "      <td>ultra</td>\n",
       "      <td>973</td>\n",
       "      <td>525.483042</td>\n",
       "      <td>97492.206759</td>\n",
       "      <td>312.237420</td>\n",
       "    </tr>\n",
       "  </tbody>\n",
       "</table>\n",
       "</div>"
      ],
      "text/plain": [
       "        Кол-во     Среднее     Дисперсия  Отклонение\n",
       "tariff                                              \n",
       "smart     2193  413.138167  34210.335372  184.960362\n",
       "ultra      973  525.483042  97492.206759  312.237420"
      ]
     },
     "metadata": {},
     "output_type": "display_data"
    }
   ],
   "source": [
    "stats('duration')"
   ]
  },
  {
   "cell_type": "markdown",
   "metadata": {},
   "source": [
    "### Вывод"
   ]
  },
  {
   "cell_type": "markdown",
   "metadata": {},
   "source": [
    "На графиках видно, что клиенты `ultra` используют заметно больше минут, чем клиенты `smart`. Возьмем границу третьего квартиля за количество минут, которого достаточно клиентам. Тогда получим, что для подавляющего большинства клиентов `smart` будет достаточно около 500 минут, собственно говоря, именно столько им и предоставляется. Большинству клиентов `ultra` хватит 700-800 минут. Этот момент надо отметить, так как в тарифе предоставляется 3000. С этим надо что то делать.\n",
    "\n",
    "Основываясь на QQ plot графиках, можем сказать, что распределения минут для каждого тарифа близки к нормальному. Так же необходимо выделить, что распределение `ultra` намного более широкое чем `smart`. Этот вывод мы сделали на основе графиков, и статистических показателей. Стандартное отклонение `ultra` примерно в 1.5 раза больше. Это значит, что пользовательские требования распределены более равномерно."
   ]
  },
  {
   "cell_type": "markdown",
   "metadata": {},
   "source": [
    "### Количество мегабайт"
   ]
  },
  {
   "cell_type": "code",
   "execution_count": 32,
   "metadata": {},
   "outputs": [
    {
     "data": {
      "image/png": "[encoded data removed]",
      "text/plain": [
       "<Figure size 1080x576 with 2 Axes>"
      ]
     },
     "metadata": {},
     "output_type": "display_data"
    }
   ],
   "source": [
    "analys_plots('mb_used', 50000, 3000, 25)"
   ]
  },
  {
   "cell_type": "code",
   "execution_count": 33,
   "metadata": {},
   "outputs": [
    {
     "data": {
      "image/png": "[encoded data removed]",
      "text/plain": [
       "<Figure size 432x288 with 1 Axes>"
      ]
     },
     "metadata": {},
     "output_type": "display_data"
    },
    {
     "data": {
      "image/png": "[encoded data removed]",
      "text/plain": [
       "<Figure size 432x288 with 1 Axes>"
      ]
     },
     "metadata": {},
     "output_type": "display_data"
    }
   ],
   "source": [
    "distribution('mb_used')"
   ]
  },
  {
   "cell_type": "code",
   "execution_count": 34,
   "metadata": {},
   "outputs": [
    {
     "data": {
      "text/html": [
       "<div>\n",
       "<style scoped>\n",
       "    .dataframe tbody tr th:only-of-type {\n",
       "        vertical-align: middle;\n",
       "    }\n",
       "\n",
       "    .dataframe tbody tr th {\n",
       "        vertical-align: top;\n",
       "    }\n",
       "\n",
       "    .dataframe thead th {\n",
       "        text-align: right;\n",
       "    }\n",
       "</style>\n",
       "<table border=\"1\" class=\"dataframe\">\n",
       "  <thead>\n",
       "    <tr style=\"text-align: right;\">\n",
       "      <th></th>\n",
       "      <th>Кол-во</th>\n",
       "      <th>Среднее</th>\n",
       "      <th>Дисперсия</th>\n",
       "      <th>Отклонение</th>\n",
       "    </tr>\n",
       "    <tr>\n",
       "      <th>tariff</th>\n",
       "      <th></th>\n",
       "      <th></th>\n",
       "      <th></th>\n",
       "      <th></th>\n",
       "    </tr>\n",
       "  </thead>\n",
       "  <tbody>\n",
       "    <tr>\n",
       "      <td>smart</td>\n",
       "      <td>2193</td>\n",
       "      <td>16086.335613</td>\n",
       "      <td>3.259608e+07</td>\n",
       "      <td>5709.297604</td>\n",
       "    </tr>\n",
       "    <tr>\n",
       "      <td>ultra</td>\n",
       "      <td>973</td>\n",
       "      <td>19383.263104</td>\n",
       "      <td>1.002757e+08</td>\n",
       "      <td>10013.776978</td>\n",
       "    </tr>\n",
       "  </tbody>\n",
       "</table>\n",
       "</div>"
      ],
      "text/plain": [
       "        Кол-во       Среднее     Дисперсия    Отклонение\n",
       "tariff                                                  \n",
       "smart     2193  16086.335613  3.259608e+07   5709.297604\n",
       "ultra      973  19383.263104  1.002757e+08  10013.776978"
      ]
     },
     "metadata": {},
     "output_type": "display_data"
    }
   ],
   "source": [
    "stats('mb_used')"
   ]
  },
  {
   "cell_type": "markdown",
   "metadata": {},
   "source": [
    "### Вывод"
   ]
  },
  {
   "cell_type": "markdown",
   "metadata": {},
   "source": [
    "Ситуация с интернетом похожа на ситуацию с минутами. Клиенты `ultra` используют намного больше мобильного интернета в месяц. Как и раньше, за достаточное количество возьмем границу третьего квартиля. Большинству клиентов `smart` будет достаточно 20 гигабайт в месяц, в то время как в тариф включены лишь 15. Это значит, что некоторая часть пользователей испытывает недостаток интернета и вынуждена докупать дополнительный гигабайты по повышенной цене. Большинству клиентов `ultra` хватит 27 гигабайт в месяц, в тариф включены 30, значит практически все клиенты укладываются в лимит.\n",
    "\n",
    "На графика QQ plot видно, что распределения не сильно отклоняются от нормального. Как и в ситуации с минутами, распределение `ultra` более широкое. Среднее отклонение почти в 2 раза больше чем у `smart` и составляет 10 гигабайт. Это значит, что пользовательские требования распределены более равномерно."
   ]
  },
  {
   "cell_type": "markdown",
   "metadata": {},
   "source": [
    "### Количество сообщений"
   ]
  },
  {
   "cell_type": "code",
   "execution_count": 35,
   "metadata": {},
   "outputs": [
    {
     "data": {
      "image/png": "[encoded data removed]",
      "text/plain": [
       "<Figure size 1080x576 with 2 Axes>"
      ]
     },
     "metadata": {},
     "output_type": "display_data"
    }
   ],
   "source": [
    "analys_plots('messages', 200, 10, 25)"
   ]
  },
  {
   "cell_type": "code",
   "execution_count": 36,
   "metadata": {},
   "outputs": [
    {
     "data": {
      "image/png": "[encoded data removed]",
      "text/plain": [
       "<Figure size 432x288 with 1 Axes>"
      ]
     },
     "metadata": {},
     "output_type": "display_data"
    },
    {
     "data": {
      "image/png": "[encoded data removed]",
      "text/plain": [
       "<Figure size 432x288 with 1 Axes>"
      ]
     },
     "metadata": {},
     "output_type": "display_data"
    }
   ],
   "source": [
    "distribution('messages')"
   ]
  },
  {
   "cell_type": "code",
   "execution_count": 37,
   "metadata": {},
   "outputs": [
    {
     "data": {
      "text/html": [
       "<div>\n",
       "<style scoped>\n",
       "    .dataframe tbody tr th:only-of-type {\n",
       "        vertical-align: middle;\n",
       "    }\n",
       "\n",
       "    .dataframe tbody tr th {\n",
       "        vertical-align: top;\n",
       "    }\n",
       "\n",
       "    .dataframe thead th {\n",
       "        text-align: right;\n",
       "    }\n",
       "</style>\n",
       "<table border=\"1\" class=\"dataframe\">\n",
       "  <thead>\n",
       "    <tr style=\"text-align: right;\">\n",
       "      <th></th>\n",
       "      <th>Кол-во</th>\n",
       "      <th>Среднее</th>\n",
       "      <th>Дисперсия</th>\n",
       "      <th>Отклонение</th>\n",
       "    </tr>\n",
       "    <tr>\n",
       "      <th>tariff</th>\n",
       "      <th></th>\n",
       "      <th></th>\n",
       "      <th></th>\n",
       "      <th></th>\n",
       "    </tr>\n",
       "  </thead>\n",
       "  <tbody>\n",
       "    <tr>\n",
       "      <td>smart</td>\n",
       "      <td>2193</td>\n",
       "      <td>32.750570</td>\n",
       "      <td>742.30865</td>\n",
       "      <td>27.245342</td>\n",
       "    </tr>\n",
       "    <tr>\n",
       "      <td>ultra</td>\n",
       "      <td>973</td>\n",
       "      <td>47.920863</td>\n",
       "      <td>2088.36513</td>\n",
       "      <td>45.698634</td>\n",
       "    </tr>\n",
       "  </tbody>\n",
       "</table>\n",
       "</div>"
      ],
      "text/plain": [
       "        Кол-во    Среднее   Дисперсия  Отклонение\n",
       "tariff                                           \n",
       "smart     2193  32.750570   742.30865   27.245342\n",
       "ultra      973  47.920863  2088.36513   45.698634"
      ]
     },
     "metadata": {},
     "output_type": "display_data"
    }
   ],
   "source": [
    "stats('messages')"
   ]
  },
  {
   "cell_type": "markdown",
   "metadata": {},
   "source": [
    "### Вывод"
   ]
  },
  {
   "cell_type": "markdown",
   "metadata": {},
   "source": [
    "Точно так же, как и с остальными услугами, клиенты `ultra` используют больше сообщений. В месяц им будет достаточно 80 сообщений, в то время как пользователям `smart` всего 50. В случае с тарифом `smart` количество сообщений оптимально. В `ultra` включено 1000 сообщений. В среднем пользователи используют в 20 раз меньше, с этим определенно что то нужно делать. \n",
    "\n",
    "Графики QQ plot показывают. что распределение отличается от нормального. Это заметно и на других графиках. Распределение смещено влево. Как и раньше, объясним это тем, что популярность sms падает. Это звучит логично, большинство людей пользуются мессенджерами. Это бесплатно и удобно. Помимо существующих нулей, мы заполнили нулями 500 пропусков, собственно это и является причиной подобного распределения."
   ]
  },
  {
   "cell_type": "markdown",
   "metadata": {},
   "source": [
    "## Шаг 4. Проверка гипотез"
   ]
  },
  {
   "cell_type": "markdown",
   "metadata": {},
   "source": [
    "### Средняя выручка пользователей тарифов «Ультра» и «Смарт»"
   ]
  },
  {
   "cell_type": "markdown",
   "metadata": {},
   "source": [
    "Для начала посчитаем среднюю выручку для каждого тарифа"
   ]
  },
  {
   "cell_type": "code",
   "execution_count": 38,
   "metadata": {},
   "outputs": [
    {
     "data": {
      "text/html": [
       "<div>\n",
       "<style scoped>\n",
       "    .dataframe tbody tr th:only-of-type {\n",
       "        vertical-align: middle;\n",
       "    }\n",
       "\n",
       "    .dataframe tbody tr th {\n",
       "        vertical-align: top;\n",
       "    }\n",
       "\n",
       "    .dataframe thead tr th {\n",
       "        text-align: left;\n",
       "    }\n",
       "\n",
       "    .dataframe thead tr:last-of-type th {\n",
       "        text-align: right;\n",
       "    }\n",
       "</style>\n",
       "<table border=\"1\" class=\"dataframe\">\n",
       "  <thead>\n",
       "    <tr>\n",
       "      <th></th>\n",
       "      <th>count</th>\n",
       "      <th>mean</th>\n",
       "      <th>var</th>\n",
       "      <th>std</th>\n",
       "    </tr>\n",
       "    <tr>\n",
       "      <th></th>\n",
       "      <th>profit</th>\n",
       "      <th>profit</th>\n",
       "      <th>profit</th>\n",
       "      <th>profit</th>\n",
       "    </tr>\n",
       "    <tr>\n",
       "      <th>tariff</th>\n",
       "      <th></th>\n",
       "      <th></th>\n",
       "      <th></th>\n",
       "      <th></th>\n",
       "    </tr>\n",
       "  </thead>\n",
       "  <tbody>\n",
       "    <tr>\n",
       "      <td>smart</td>\n",
       "      <td>2193</td>\n",
       "      <td>1269.544460</td>\n",
       "      <td>586151.291020</td>\n",
       "      <td>765.605180</td>\n",
       "    </tr>\n",
       "    <tr>\n",
       "      <td>ultra</td>\n",
       "      <td>973</td>\n",
       "      <td>2067.317575</td>\n",
       "      <td>137495.574969</td>\n",
       "      <td>370.803958</td>\n",
       "    </tr>\n",
       "    <tr>\n",
       "      <td>All</td>\n",
       "      <td>3166</td>\n",
       "      <td>1514.722363</td>\n",
       "      <td>583706.824947</td>\n",
       "      <td>764.007084</td>\n",
       "    </tr>\n",
       "  </tbody>\n",
       "</table>\n",
       "</div>"
      ],
      "text/plain": [
       "        count         mean            var         std\n",
       "       profit       profit         profit      profit\n",
       "tariff                                               \n",
       "smart    2193  1269.544460  586151.291020  765.605180\n",
       "ultra     973  2067.317575  137495.574969  370.803958\n",
       "All      3166  1514.722363  583706.824947  764.007084"
      ]
     },
     "execution_count": 38,
     "metadata": {},
     "output_type": "execute_result"
    }
   ],
   "source": [
    "df.pivot_table(index='tariff', values='profit', aggfunc=['count', 'mean', 'var', 'std'], margins=True)"
   ]
  },
  {
   "cell_type": "markdown",
   "metadata": {},
   "source": [
    "Проведем тест Левене для проверки гипотезы об однородности дисперсий наших выборок"
   ]
  },
  {
   "cell_type": "code",
   "execution_count": 39,
   "metadata": {},
   "outputs": [
    {
     "data": {
      "text/plain": [
       "LeveneResult(statistic=677.8123873577158, pvalue=1.4647810904020665e-135)"
      ]
     },
     "execution_count": 39,
     "metadata": {},
     "output_type": "execute_result"
    }
   ],
   "source": [
    "smart = df[df['tariff'] == 'smart'].copy()\n",
    "ultra = df[df['tariff'] == 'ultra'].copy()\n",
    "\n",
    "st.levene(smart['profit'], ultra['profit'])"
   ]
  },
  {
   "cell_type": "markdown",
   "metadata": {},
   "source": [
    "Разница между средними выручками по тарифам достигает 800 рублей. Выясним, является это различие статистически значимым.\n",
    "\n",
    "Сформулируем гипотезы: \n",
    "- H0: средняя выручка пользователей тарифов «Ультра» и «Смарт» одинакова.\n",
    "- H1: средняя выручка пользователей тарифов «Ультра» и «Смарт» различается.\n",
    "\n",
    "Так как полученный **pvalue > 5%**, будем использовать параметр **equal_var = True.** Выполним расчеты."
   ]
  },
  {
   "cell_type": "code",
   "execution_count": 40,
   "metadata": {},
   "outputs": [
    {
     "name": "stdout",
     "output_type": "stream",
     "text": [
      "p-значение: 8.829228764071571e-184\n",
      "Отвергаем нулевую гипотезу\n"
     ]
    }
   ],
   "source": [
    "alpha = 0.05\n",
    "\n",
    "results1 = st.ttest_ind(smart['profit'], ultra['profit'], equal_var = True)\n",
    "\n",
    "print('p-значение:', results1.pvalue)\n",
    "\n",
    "if results1.pvalue < alpha:\n",
    "    print('Отвергаем нулевую гипотезу')\n",
    "    \n",
    "else:\n",
    "    print('Не получилось отвергнуть нулевую гипотезу')"
   ]
  },
  {
   "cell_type": "markdown",
   "metadata": {},
   "source": [
    "### Вывод"
   ]
  },
  {
   "cell_type": "markdown",
   "metadata": {},
   "source": [
    "В результате расчетов мы отвергли нулевую гипортезу. Это значит, что средняя выручка с тарифов скорее всего различается. Тариф `ultra` в среднем приносит кампании больше выручки, чем `smart`. Мы использовали параметр `equal_var = False` так как дисперсии в выборках сильно отличаются. Стандартное отклонение `smart` почти в 2 раза больше. Это значит, что клиенты `smart` чаще и больше переплачивают(выходят из лимитов) чем клиенты `ultra`."
   ]
  },
  {
   "cell_type": "markdown",
   "metadata": {},
   "source": [
    "### Средняя выручка пользователей из Москвы и из регионов."
   ]
  },
  {
   "cell_type": "markdown",
   "metadata": {},
   "source": [
    "Для удобства с помощью метода `apply` создадим столбец `region` который будет определять, клиент из москвы или из региона."
   ]
  },
  {
   "cell_type": "code",
   "execution_count": 41,
   "metadata": {},
   "outputs": [],
   "source": [
    "def region(row):\n",
    "    if row == 'Москва':\n",
    "        return 'Москва'\n",
    "    else:\n",
    "        return 'Регион'\n",
    "df['region'] = df['city'].apply(region)"
   ]
  },
  {
   "cell_type": "markdown",
   "metadata": {},
   "source": [
    "Теперь посчитаем среднюю выручку по Москве и регионам."
   ]
  },
  {
   "cell_type": "code",
   "execution_count": 42,
   "metadata": {},
   "outputs": [
    {
     "data": {
      "text/html": [
       "<div>\n",
       "<style scoped>\n",
       "    .dataframe tbody tr th:only-of-type {\n",
       "        vertical-align: middle;\n",
       "    }\n",
       "\n",
       "    .dataframe tbody tr th {\n",
       "        vertical-align: top;\n",
       "    }\n",
       "\n",
       "    .dataframe thead tr th {\n",
       "        text-align: left;\n",
       "    }\n",
       "\n",
       "    .dataframe thead tr:last-of-type th {\n",
       "        text-align: right;\n",
       "    }\n",
       "</style>\n",
       "<table border=\"1\" class=\"dataframe\">\n",
       "  <thead>\n",
       "    <tr>\n",
       "      <th></th>\n",
       "      <th>count</th>\n",
       "      <th>mean</th>\n",
       "      <th>var</th>\n",
       "      <th>std</th>\n",
       "    </tr>\n",
       "    <tr>\n",
       "      <th></th>\n",
       "      <th>profit</th>\n",
       "      <th>profit</th>\n",
       "      <th>profit</th>\n",
       "      <th>profit</th>\n",
       "    </tr>\n",
       "    <tr>\n",
       "      <th>region</th>\n",
       "      <th></th>\n",
       "      <th></th>\n",
       "      <th></th>\n",
       "      <th></th>\n",
       "    </tr>\n",
       "  </thead>\n",
       "  <tbody>\n",
       "    <tr>\n",
       "      <td>Москва</td>\n",
       "      <td>608</td>\n",
       "      <td>1543.758224</td>\n",
       "      <td>537445.237988</td>\n",
       "      <td>733.106567</td>\n",
       "    </tr>\n",
       "    <tr>\n",
       "      <td>Регион</td>\n",
       "      <td>2558</td>\n",
       "      <td>1507.820954</td>\n",
       "      <td>594668.913569</td>\n",
       "      <td>771.147790</td>\n",
       "    </tr>\n",
       "    <tr>\n",
       "      <td>All</td>\n",
       "      <td>3166</td>\n",
       "      <td>1514.722363</td>\n",
       "      <td>583706.824947</td>\n",
       "      <td>764.007084</td>\n",
       "    </tr>\n",
       "  </tbody>\n",
       "</table>\n",
       "</div>"
      ],
      "text/plain": [
       "        count         mean            var         std\n",
       "       profit       profit         profit      profit\n",
       "region                                               \n",
       "Москва    608  1543.758224  537445.237988  733.106567\n",
       "Регион   2558  1507.820954  594668.913569  771.147790\n",
       "All      3166  1514.722363  583706.824947  764.007084"
      ]
     },
     "execution_count": 42,
     "metadata": {},
     "output_type": "execute_result"
    }
   ],
   "source": [
    "df.pivot_table(index='region', values='profit', aggfunc=['count', 'mean', 'var', 'std'], margins=True)"
   ]
  },
  {
   "cell_type": "markdown",
   "metadata": {},
   "source": [
    "Проверим однородность дисперсий в выборках"
   ]
  },
  {
   "cell_type": "code",
   "execution_count": 43,
   "metadata": {},
   "outputs": [
    {
     "data": {
      "text/plain": [
       "LeveneResult(statistic=5.704995435659446, pvalue=0.016974990085417956)"
      ]
     },
     "execution_count": 43,
     "metadata": {},
     "output_type": "execute_result"
    }
   ],
   "source": [
    "moscow = df[df['region'] == 'Москва'].copy()\n",
    "regions = df[df['region'] == 'Регион'].copy()\n",
    "\n",
    "st.levene(moscow['profit'], regions['profit'])"
   ]
  },
  {
   "cell_type": "markdown",
   "metadata": {},
   "source": [
    "Разница между средними невелика, менее 40 рублей. Выясним, является ли оэто различие статистически значимым.\n",
    "\n",
    "Сформулируем гипотезы:\n",
    "- H0: средняя выручка пользователей из Москвы не отличается от средней выручки по регионам.\n",
    "- H1: средняя выручка пользователей из Москвы отличается от выручки пользователей из других регионов.\n",
    "\n",
    "Произведем расчеты. Так как полученный в тесте Левене **pvalue < 5%**, будем использовать параметр **equal_var = False**"
   ]
  },
  {
   "cell_type": "code",
   "execution_count": 44,
   "metadata": {},
   "outputs": [
    {
     "name": "stdout",
     "output_type": "stream",
     "text": [
      "p-значение: 0.2972326590584438\n",
      "Не получилось отвергнуть нулевую гипотезу\n"
     ]
    }
   ],
   "source": [
    "alpha = 0.05\n",
    "\n",
    "results1 = st.ttest_ind(moscow['profit'], regions['profit'])\n",
    "\n",
    "print('p-значение:', results1.pvalue)\n",
    "\n",
    "if results1.pvalue < alpha:\n",
    "    print('Отвергаем нулевую гипотезу')\n",
    "    \n",
    "else:\n",
    "    print('Не получилось отвергнуть нулевую гипотезу')"
   ]
  },
  {
   "cell_type": "markdown",
   "metadata": {},
   "source": [
    "### Вывод"
   ]
  },
  {
   "cell_type": "markdown",
   "metadata": {},
   "source": [
    "В результате расчетов, мы не смогли отвергнуть нулевую гипотезу. Это значит, что вероятнее всего средняя выручка по Москве не отличается от средней выручки по регионам. При расчетах использовали `equal_var = True`, так как дисперсии в выборках не имеют существенных отличий. На самом деле вывод звучит логично. \"Мегалайн\" не использует разные цены для разных регионов, тарифы стоят одинаково в любом городе России, поэтому средняя выручка не именяется в зависимости от региона."
   ]
  },
  {
   "cell_type": "markdown",
   "metadata": {},
   "source": [
    "## Общий вывод"
   ]
  },
  {
   "cell_type": "markdown",
   "metadata": {},
   "source": [
    "Для того чтобы ответить на вопрос: \"Какой тариф лучше?\",  мы изучили данные по двум тарифам: `smart` и `ultra` кампании \"Мегалайн\" за 2018 год. \n",
    "\n",
    "- **Шаг 1. Объединение, изучение общей информации.**\n",
    "\n",
    "Данные были предоставлены в виде нескольких таблиц, которые нам предстояло объединить. После группировки данных по месяцам (суммирование услуг) мы использовали метод `merge(how = 'outer')`, чтобы ничего не упустить. Группировку производили для экономии памяти. Нет необходимости хранить информацию о каждом звонке по отдельности, если можно просуммировать количество потраченных минут по месяцам, и так далее. Согласно условию, мы округлили минуты и мегабайты вверх, используя метод `np.ceil`.\n",
    "\n",
    "- **Шаг 2. Подготовка данных.**\n",
    "\n",
    "Для начала изменили тип данных на `datetime` в столбцах с датами. Далее заполнили нулями пропуски, которые возникли в процессе объединения(из-за способа `outer`). Приступив к поиску ошибок, обнаружили немногочисленные выбросы, которые удалили. Стоит сказать, мы учли факт того, что клиенты разных тарифов используют разное количество услуг(минут, гигабайт, сообщений), поэтому поиск выбросов проводили для каждого тарифа по отдельности, чтобы не усреднять значения. Далее, с помощью метода `apply` создали столбец `profit` в котором подсчитали помесячную выручку с каждого клиента.\n",
    "\n",
    "- **Шаг 3. Анализ Данных.**\n",
    "\n",
    "Проанализировали использование каждой услуги для каждого тарифа. \n",
    "\n",
    "Выяснили, что большинству клиентов смарта достаточно 500 минут, в стандартный пакет тарифа `smart`  включены 500 минут, с ним все в порядке. Но тариф `ultra` предоставляет пользователю 3000 минут, в то время как клиентам достаточно 800, это существенный переизбыток, который можно оптимизировать. \n",
    "\n",
    "Ситуация с интернетом несколько другая. Данные говорят о том, что клиентам `smart` нужно 20 гигабайт в месяц, а предоставляется только 15. Из-за этого многие докупают интернет по повышенной цене. В тарифе `ultra` с интернетом все в порядке. Пользователем достаточно 30 гигабайт, столько они и получают в базовом пакете. \n",
    "\n",
    "Услуга sms пользуется меньшей популярностью. Тариф `smart` оптимален, пользователи получают 50 sms и большинству из них хватает этого количества. Клиентам `ultra` предоставляют 1000 сообщений ежемесячно, хотя было бы достаточно 80. Это еще более существенный переизбыток, чем в ситуации с минутами. Это хорошая возможность оптимизировать тариф.\n",
    "\n",
    "- **Шаг 4. Проверка гипотез.**\n",
    "\n",
    "В этом разделе мы проверяли 2 гипотезы. \n",
    "\n",
    "Первая звучит следующим образом: \"Средняя выручка пользователей тарифов «Ультра» и «Смарт» различается\". В исследовании это была гипотеза H1. После проведения расчетов гипотеза была подтверждена. Средняя выручка с тарифа `ultra` выше, чем со `smart`.\n",
    "\n",
    "Вторая гипотеза звучала так: \"Средняя выручка пользователей из Москвы отличается от выручки пользователей из других регионов\". В исследовании эта гипотеза была под номером 1. На основе расчетов мы отвергли ее и выяснили, что средняя выручка в Москве не отличается от средней выручки по регионам. Это звучит логично, учитывая, что во всех регионах одинаковые цены. \n",
    "\n",
    "- **Какой тариф выгоднее продвигать?**\n",
    "\n",
    "Кампании выгоднее заниматься продвижением тарифа **`ultra`**. Тариф имеет существенные излишки по минутам и сообщениям, которые можно оптимизировать. Ну и конечно, в среднем он приносит заметно больше прибыли. "
   ]
  }
 ],
 "metadata": {
  "kernelspec": {
   "display_name": "Python 3",
   "language": "python",
   "name": "python3"
  },
  "language_info": {
   "codemirror_mode": {
    "name": "ipython",
    "version": 3
   },
   "file_extension": ".py",
   "mimetype": "text/x-python",
   "name": "python",
   "nbconvert_exporter": "python",
   "pygments_lexer": "ipython3",
   "version": "3.7.8"
  },
  "toc": {
   "base_numbering": 1,
   "nav_menu": {
    "height": "296px",
    "width": "242px"
   },
   "number_sections": true,
   "sideBar": true,
   "skip_h1_title": true,
   "title_cell": "Содержание",
   "title_sidebar": "Contents",
   "toc_cell": true,
   "toc_position": {
    "height": "calc(100% - 180px)",
    "left": "10px",
    "top": "150px",
    "width": "261.67px"
   },
   "toc_section_display": true,
   "toc_window_display": false
  }
 },
 "nbformat": 4,
 "nbformat_minor": 2
}
